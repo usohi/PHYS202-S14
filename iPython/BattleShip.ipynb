{
 "metadata": {
  "name": "",
  "signature": "sha256:6a036010e420a08de7f0251b8b6376fffdb6fe259c5218c0178846b1856f9699"
 },
 "nbformat": 3,
 "nbformat_minor": 0,
 "worksheets": [
  {
   "cells": [
    {
     "cell_type": "markdown",
     "metadata": {},
     "source": [
      "The code begins by creating a grid of blocks, then welcomes the player, showing the board.\n",
      "Next, my code has the added/creative feature of using the amount of turns the player would like.\n",
      "So if the user inputs 7, he/she will have 7 turns to beat the game.\n",
      "Then, by defining a random_space function and creating a while loop, I create the spaces where the battleship exists on the board.\n",
      "With a for loop, the user is prompted to input their guess as to where the battleship is every iteration.\n",
      "If they guess any part of the battleship correctly, they win the game, displaying a victory message and all the spots where the battleship exists.\n",
      "Otherwise, if they're guess is not correct, the code will go through a series of checks.\n",
      "If the users input doesn't exist on the board, they'll be notified, wasting one of their turns.\n",
      "If they choose a spot they've already chosen, they'll be notified, wasting one of their turns.\n",
      "If they simply chose incorrectly, the spot will be marked green, using one of their turns.\n",
      "After each turn, the map is displayed, showing guessed spots in green, and guessed battleship spots in red.\n",
      "If they user has reached their max number of turns, the game will be over, displaying the correct spots for the battleship.\n",
      "\n"
     ]
    },
    {
     "cell_type": "code",
     "collapsed": false,
     "input": [
      "from random import randint\n",
      "from ipythonblocks import BlockGrid\n",
      "\n",
      "grid = BlockGrid(8,8,fill=(173,216,230))\n",
      "#Created grid/map for game\n",
      "print \"Let's play Battleship!\"\n",
      "grid.show()\n",
      "print \"How many attempts would you like?\"\n",
      "user_attempts = int(raw_input(\"Attempts:\"))\n",
      "#Recognizes the number of turns the user would like to beat the game\n",
      "def random_row():\n",
      "    return randint(0, grid.width - 1)\n",
      "\n",
      "def random_col():\n",
      "    return randint(0, grid.height - 1)\n",
      "#Defined functions in order to generate random points for battleship locations\n",
      "ship_row2 = 100\n",
      "ship_col2 = 100\n",
      "while ship_row2 > 7 and ship_col2 > 7:\n",
      "    ship_row = random_row()\n",
      "    ship_row2 = ship_row + 1\n",
      "    ship_col = random_col()\n",
      "    ship_col2 = ship_col + 1\n",
      "#ship_...2 = 100 and while loop ensures that the spots for the battleship exist on the map (less than 7, which is the max number since the grid goes from 0 to 7)    \n",
      "\n",
      "for turn in range(grid.height):\n",
      "    guess_row = int(raw_input(\"Guess Row:\"))\n",
      "    guess_col = int(raw_input(\"Guess Col:\"))\n",
      "    print guess_row , guess_col\n",
      "    #Takes in the guesses of the user and displays them\n",
      "    if (guess_row == ship_row and guess_col == ship_col) or (guess_row == ship_row2 and guess_col == ship_col) or (guess_row == ship_row and guess_col == ship_col2) or (guess_row == ship_row2 and guess_col == ship_col2) :\n",
      "        print \"Congratulations! You sunk my battleship!\"\n",
      "        grid[ship_row,ship_col]= (255,0,0)\n",
      "        grid[ship_row2,ship_col]= (255,0,0)\n",
      "        grid[ship_row,ship_col2]= (255,0,0)\n",
      "        grid[ship_row2,ship_col2]= (255,0,0)\n",
      "        grid.show()\n",
      "        break\n",
      "        #If the user guesses a spot on the battleship, they win, coloring the battleship spots, displaying them, and ending the game\n",
      "    else:\n",
      "        if (guess_row < 0 or guess_row > grid.height-1) or (guess_col < 0 or guess_col > grid.width-1):\n",
      "            print \"Oops, that's not even in the ocean.\"\n",
      "            #Deals with the situation where the user inputs a location that doesn't exist on the map\n",
      "        elif(grid[guess_row,guess_col].red == 0 and grid[guess_row,guess_col].green == 255 and grid[guess_row,guess_col].blue == 0):\n",
      "            print \"You guessed that one already.\"\n",
      "            #Deals with the situation where the user inputs a location that they already guessed by checking if its green or not\n",
      "        else:\n",
      "            print \"You missed my battleship!\"\n",
      "            grid[guess_row,guess_col] = (0,255,0)\n",
      "            #Deals with the situation where the user inputas a location that is not where the battleship is.  It turns that spot green.\n",
      "    current_turn=turn+1\n",
      "    print current_turn\n",
      "    #Moves the game to the next turn, displaying the current turn\n",
      "    grid.show()\n",
      "    if user_attempts == current_turn:\n",
      "        print \"Game Over\"\n",
      "        print \"Here's where it was\"\n",
      "        grid[ship_row,ship_col] = (255,0,0)\n",
      "        grid[ship_row2,ship_col]= (255,0,0)\n",
      "        grid[ship_row,ship_col2]= (255,0,0)\n",
      "        grid[ship_row2,ship_col2]= (255,0,0)\n",
      "        grid.show()\n",
      "        break\n",
      "        #Ends game when the current turn is equal to the desired turns the user wanted to beat the game"
     ],
     "language": "python",
     "metadata": {},
     "outputs": [
      {
       "output_type": "stream",
       "stream": "stdout",
       "text": [
        "Let's play Battleship!\n"
       ]
      },
      {
       "html": [
        "<style type=\"text/css\">table.blockgrid {border: none;} .blockgrid tr {border: none;} .blockgrid td {padding: 0px;} #blocks1d942ea7-901b-4e39-901f-8d06f5628e38 td {border: 1px solid white;}</style><table id=\"blocks1d942ea7-901b-4e39-901f-8d06f5628e38\" class=\"blockgrid\"><tbody><tr><td title=\"Index: [0, 0]&#10;Color: (173, 216, 230)\" style=\"width: 20px; height: 20px;background-color: rgb(173, 216, 230);\"></td><td title=\"Index: [0, 1]&#10;Color: (173, 216, 230)\" style=\"width: 20px; height: 20px;background-color: rgb(173, 216, 230);\"></td><td title=\"Index: [0, 2]&#10;Color: (173, 216, 230)\" style=\"width: 20px; height: 20px;background-color: rgb(173, 216, 230);\"></td><td title=\"Index: [0, 3]&#10;Color: (173, 216, 230)\" style=\"width: 20px; height: 20px;background-color: rgb(173, 216, 230);\"></td><td title=\"Index: [0, 4]&#10;Color: (173, 216, 230)\" style=\"width: 20px; height: 20px;background-color: rgb(173, 216, 230);\"></td><td title=\"Index: [0, 5]&#10;Color: (173, 216, 230)\" style=\"width: 20px; height: 20px;background-color: rgb(173, 216, 230);\"></td><td title=\"Index: [0, 6]&#10;Color: (173, 216, 230)\" style=\"width: 20px; height: 20px;background-color: rgb(173, 216, 230);\"></td><td title=\"Index: [0, 7]&#10;Color: (173, 216, 230)\" style=\"width: 20px; height: 20px;background-color: rgb(173, 216, 230);\"></td></tr><tr><td title=\"Index: [1, 0]&#10;Color: (173, 216, 230)\" style=\"width: 20px; height: 20px;background-color: rgb(173, 216, 230);\"></td><td title=\"Index: [1, 1]&#10;Color: (173, 216, 230)\" style=\"width: 20px; height: 20px;background-color: rgb(173, 216, 230);\"></td><td title=\"Index: [1, 2]&#10;Color: (173, 216, 230)\" style=\"width: 20px; height: 20px;background-color: rgb(173, 216, 230);\"></td><td title=\"Index: [1, 3]&#10;Color: (173, 216, 230)\" style=\"width: 20px; height: 20px;background-color: rgb(173, 216, 230);\"></td><td title=\"Index: [1, 4]&#10;Color: (173, 216, 230)\" style=\"width: 20px; height: 20px;background-color: rgb(173, 216, 230);\"></td><td title=\"Index: [1, 5]&#10;Color: (173, 216, 230)\" style=\"width: 20px; height: 20px;background-color: rgb(173, 216, 230);\"></td><td title=\"Index: [1, 6]&#10;Color: (173, 216, 230)\" style=\"width: 20px; height: 20px;background-color: rgb(173, 216, 230);\"></td><td title=\"Index: [1, 7]&#10;Color: (173, 216, 230)\" style=\"width: 20px; height: 20px;background-color: rgb(173, 216, 230);\"></td></tr><tr><td title=\"Index: [2, 0]&#10;Color: (173, 216, 230)\" style=\"width: 20px; height: 20px;background-color: rgb(173, 216, 230);\"></td><td title=\"Index: [2, 1]&#10;Color: (173, 216, 230)\" style=\"width: 20px; height: 20px;background-color: rgb(173, 216, 230);\"></td><td title=\"Index: [2, 2]&#10;Color: (173, 216, 230)\" style=\"width: 20px; height: 20px;background-color: rgb(173, 216, 230);\"></td><td title=\"Index: [2, 3]&#10;Color: (173, 216, 230)\" style=\"width: 20px; height: 20px;background-color: rgb(173, 216, 230);\"></td><td title=\"Index: [2, 4]&#10;Color: (173, 216, 230)\" style=\"width: 20px; height: 20px;background-color: rgb(173, 216, 230);\"></td><td title=\"Index: [2, 5]&#10;Color: (173, 216, 230)\" style=\"width: 20px; height: 20px;background-color: rgb(173, 216, 230);\"></td><td title=\"Index: [2, 6]&#10;Color: (173, 216, 230)\" style=\"width: 20px; height: 20px;background-color: rgb(173, 216, 230);\"></td><td title=\"Index: [2, 7]&#10;Color: (173, 216, 230)\" style=\"width: 20px; height: 20px;background-color: rgb(173, 216, 230);\"></td></tr><tr><td title=\"Index: [3, 0]&#10;Color: (173, 216, 230)\" style=\"width: 20px; height: 20px;background-color: rgb(173, 216, 230);\"></td><td title=\"Index: [3, 1]&#10;Color: (173, 216, 230)\" style=\"width: 20px; height: 20px;background-color: rgb(173, 216, 230);\"></td><td title=\"Index: [3, 2]&#10;Color: (173, 216, 230)\" style=\"width: 20px; height: 20px;background-color: rgb(173, 216, 230);\"></td><td title=\"Index: [3, 3]&#10;Color: (173, 216, 230)\" style=\"width: 20px; height: 20px;background-color: rgb(173, 216, 230);\"></td><td title=\"Index: [3, 4]&#10;Color: (173, 216, 230)\" style=\"width: 20px; height: 20px;background-color: rgb(173, 216, 230);\"></td><td title=\"Index: [3, 5]&#10;Color: (173, 216, 230)\" style=\"width: 20px; height: 20px;background-color: rgb(173, 216, 230);\"></td><td title=\"Index: [3, 6]&#10;Color: (173, 216, 230)\" style=\"width: 20px; height: 20px;background-color: rgb(173, 216, 230);\"></td><td title=\"Index: [3, 7]&#10;Color: (173, 216, 230)\" style=\"width: 20px; height: 20px;background-color: rgb(173, 216, 230);\"></td></tr><tr><td title=\"Index: [4, 0]&#10;Color: (173, 216, 230)\" style=\"width: 20px; height: 20px;background-color: rgb(173, 216, 230);\"></td><td title=\"Index: [4, 1]&#10;Color: (173, 216, 230)\" style=\"width: 20px; height: 20px;background-color: rgb(173, 216, 230);\"></td><td title=\"Index: [4, 2]&#10;Color: (173, 216, 230)\" style=\"width: 20px; height: 20px;background-color: rgb(173, 216, 230);\"></td><td title=\"Index: [4, 3]&#10;Color: (173, 216, 230)\" style=\"width: 20px; height: 20px;background-color: rgb(173, 216, 230);\"></td><td title=\"Index: [4, 4]&#10;Color: (173, 216, 230)\" style=\"width: 20px; height: 20px;background-color: rgb(173, 216, 230);\"></td><td title=\"Index: [4, 5]&#10;Color: (173, 216, 230)\" style=\"width: 20px; height: 20px;background-color: rgb(173, 216, 230);\"></td><td title=\"Index: [4, 6]&#10;Color: (173, 216, 230)\" style=\"width: 20px; height: 20px;background-color: rgb(173, 216, 230);\"></td><td title=\"Index: [4, 7]&#10;Color: (173, 216, 230)\" style=\"width: 20px; height: 20px;background-color: rgb(173, 216, 230);\"></td></tr><tr><td title=\"Index: [5, 0]&#10;Color: (173, 216, 230)\" style=\"width: 20px; height: 20px;background-color: rgb(173, 216, 230);\"></td><td title=\"Index: [5, 1]&#10;Color: (173, 216, 230)\" style=\"width: 20px; height: 20px;background-color: rgb(173, 216, 230);\"></td><td title=\"Index: [5, 2]&#10;Color: (173, 216, 230)\" style=\"width: 20px; height: 20px;background-color: rgb(173, 216, 230);\"></td><td title=\"Index: [5, 3]&#10;Color: (173, 216, 230)\" style=\"width: 20px; height: 20px;background-color: rgb(173, 216, 230);\"></td><td title=\"Index: [5, 4]&#10;Color: (173, 216, 230)\" style=\"width: 20px; height: 20px;background-color: rgb(173, 216, 230);\"></td><td title=\"Index: [5, 5]&#10;Color: (173, 216, 230)\" style=\"width: 20px; height: 20px;background-color: rgb(173, 216, 230);\"></td><td title=\"Index: [5, 6]&#10;Color: (173, 216, 230)\" style=\"width: 20px; height: 20px;background-color: rgb(173, 216, 230);\"></td><td title=\"Index: [5, 7]&#10;Color: (173, 216, 230)\" style=\"width: 20px; height: 20px;background-color: rgb(173, 216, 230);\"></td></tr><tr><td title=\"Index: [6, 0]&#10;Color: (173, 216, 230)\" style=\"width: 20px; height: 20px;background-color: rgb(173, 216, 230);\"></td><td title=\"Index: [6, 1]&#10;Color: (173, 216, 230)\" style=\"width: 20px; height: 20px;background-color: rgb(173, 216, 230);\"></td><td title=\"Index: [6, 2]&#10;Color: (173, 216, 230)\" style=\"width: 20px; height: 20px;background-color: rgb(173, 216, 230);\"></td><td title=\"Index: [6, 3]&#10;Color: (173, 216, 230)\" style=\"width: 20px; height: 20px;background-color: rgb(173, 216, 230);\"></td><td title=\"Index: [6, 4]&#10;Color: (173, 216, 230)\" style=\"width: 20px; height: 20px;background-color: rgb(173, 216, 230);\"></td><td title=\"Index: [6, 5]&#10;Color: (173, 216, 230)\" style=\"width: 20px; height: 20px;background-color: rgb(173, 216, 230);\"></td><td title=\"Index: [6, 6]&#10;Color: (173, 216, 230)\" style=\"width: 20px; height: 20px;background-color: rgb(173, 216, 230);\"></td><td title=\"Index: [6, 7]&#10;Color: (173, 216, 230)\" style=\"width: 20px; height: 20px;background-color: rgb(173, 216, 230);\"></td></tr><tr><td title=\"Index: [7, 0]&#10;Color: (173, 216, 230)\" style=\"width: 20px; height: 20px;background-color: rgb(173, 216, 230);\"></td><td title=\"Index: [7, 1]&#10;Color: (173, 216, 230)\" style=\"width: 20px; height: 20px;background-color: rgb(173, 216, 230);\"></td><td title=\"Index: [7, 2]&#10;Color: (173, 216, 230)\" style=\"width: 20px; height: 20px;background-color: rgb(173, 216, 230);\"></td><td title=\"Index: [7, 3]&#10;Color: (173, 216, 230)\" style=\"width: 20px; height: 20px;background-color: rgb(173, 216, 230);\"></td><td title=\"Index: [7, 4]&#10;Color: (173, 216, 230)\" style=\"width: 20px; height: 20px;background-color: rgb(173, 216, 230);\"></td><td title=\"Index: [7, 5]&#10;Color: (173, 216, 230)\" style=\"width: 20px; height: 20px;background-color: rgb(173, 216, 230);\"></td><td title=\"Index: [7, 6]&#10;Color: (173, 216, 230)\" style=\"width: 20px; height: 20px;background-color: rgb(173, 216, 230);\"></td><td title=\"Index: [7, 7]&#10;Color: (173, 216, 230)\" style=\"width: 20px; height: 20px;background-color: rgb(173, 216, 230);\"></td></tr></tbody></table>"
       ],
       "metadata": {},
       "output_type": "display_data",
       "text": [
        "<IPython.core.display.HTML at 0x101e82250>"
       ]
      },
      {
       "output_type": "stream",
       "stream": "stdout",
       "text": [
        "How many attempts would you like?\n"
       ]
      }
     ]
    },
    {
     "cell_type": "markdown",
     "metadata": {},
     "source": []
    },
    {
     "cell_type": "code",
     "collapsed": false,
     "input": [],
     "language": "python",
     "metadata": {},
     "outputs": []
    },
    {
     "cell_type": "code",
     "collapsed": false,
     "input": [],
     "language": "python",
     "metadata": {},
     "outputs": []
    }
   ],
   "metadata": {}
  }
 ]
}