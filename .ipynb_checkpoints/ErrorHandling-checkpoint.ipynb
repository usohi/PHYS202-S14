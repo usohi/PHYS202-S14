{
 "metadata": {
  "name": "",
  "signature": "sha256:9b73a2ccf9737a45fa42174fff6f6e9eb5a4e04dc90ea0172865f5dc2249f923"
 },
 "nbformat": 3,
 "nbformat_minor": 0,
 "worksheets": [
  {
   "cells": [
    {
     "cell_type": "heading",
     "level": 1,
     "metadata": {},
     "source": [
      "Error handling"
     ]
    },
    {
     "cell_type": "code",
     "collapsed": false,
     "input": [],
     "language": "python",
     "metadata": {},
     "outputs": []
    }
   ],
   "metadata": {}
  }
 ]
}