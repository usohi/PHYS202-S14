{
 "metadata": {
  "name": "",
  "signature": "sha256:c6bcac8234cc41ee2a7ace2e91faee562844eea64bdfa51cac7a0272355954df"
 },
 "nbformat": 3,
 "nbformat_minor": 0,
 "worksheets": [
  {
   "cells": [
    {
     "cell_type": "code",
     "collapsed": false,
     "input": [
      "%pylab inline\n",
      "import numpy as np"
     ],
     "language": "python",
     "metadata": {},
     "outputs": [
      {
       "output_type": "stream",
       "stream": "stdout",
       "text": [
        "Populating the interactive namespace from numpy and matplotlib\n"
       ]
      }
     ],
     "prompt_number": 1
    },
    {
     "cell_type": "code",
     "collapsed": false,
     "input": [
      "a = np.ones((4,4),dtype=int64)\n",
      "a[3,1] = 6\n",
      "a[2,3] = 2\n",
      "print a"
     ],
     "language": "python",
     "metadata": {},
     "outputs": [
      {
       "output_type": "stream",
       "stream": "stdout",
       "text": [
        "[[1 1 1 1]\n",
        " [1 1 1 1]\n",
        " [1 1 1 2]\n",
        " [1 6 1 1]]\n"
       ]
      }
     ],
     "prompt_number": 2
    },
    {
     "cell_type": "code",
     "collapsed": false,
     "input": [
      "#method 1\n",
      "b = np.diag(np.arange(1.,7.))\n",
      "b = b[:,1:]\n",
      "print b\n",
      "print"
     ],
     "language": "python",
     "metadata": {},
     "outputs": [
      {
       "output_type": "stream",
       "stream": "stdout",
       "text": [
        "[[ 0.  0.  0.  0.  0.]\n",
        " [ 2.  0.  0.  0.  0.]\n",
        " [ 0.  3.  0.  0.  0.]\n",
        " [ 0.  0.  4.  0.  0.]\n",
        " [ 0.  0.  0.  5.  0.]\n",
        " [ 0.  0.  0.  0.  6.]]\n",
        "\n"
       ]
      }
     ],
     "prompt_number": 3
    },
    {
     "cell_type": "heading",
     "level": 3,
     "metadata": {},
     "source": [
      "2"
     ]
    },
    {
     "cell_type": "code",
     "collapsed": false,
     "input": [
      "c = np.array(np.tile((4,3),3))\n",
      "d = np.array(np.tile((2,1),3))\n",
      "e = np.array([c,d,c,d])\n",
      "print e"
     ],
     "language": "python",
     "metadata": {},
     "outputs": [
      {
       "output_type": "stream",
       "stream": "stdout",
       "text": [
        "[[4 3 4 3 4 3]\n",
        " [2 1 2 1 2 1]\n",
        " [4 3 4 3 4 3]\n",
        " [2 1 2 1 2 1]]\n"
       ]
      }
     ],
     "prompt_number": 7
    },
    {
     "cell_type": "heading",
     "level": 3,
     "metadata": {},
     "source": [
      "3"
     ]
    },
    {
     "cell_type": "code",
     "collapsed": false,
     "input": [
      "def eratosthenes_sieve(maximum):\n",
      "    primes = range(2, maximum+1)\n",
      "    for i in primes:\n",
      "        j = 2\n",
      "        while i * j <= primes[-1]:\n",
      "            if i * j in primes:\n",
      "                primes.remove(i*j)\n",
      "            j += 1\n",
      "    return primes\n",
      "\n",
      "print eratosthenes_sieve(10)\n",
      "print eratosthenes_sieve(100)"
     ],
     "language": "python",
     "metadata": {},
     "outputs": [
      {
       "output_type": "stream",
       "stream": "stdout",
       "text": [
        "[2, 3, 5, 7]\n",
        "[2, 3, 5, 7, 11, 13, 17, 19, 23, 29, 31, 37, 41, 43, 47, 53, 59, 61, 67, 71, 73, 79, 83, 89, 97]\n"
       ]
      }
     ],
     "prompt_number": 12
    },
    {
     "cell_type": "code",
     "collapsed": false,
     "input": [
      "y, x = np.ogrid[0:512,0:512]\n",
      "centerx, centery = (256, 256)\n",
      "mask = ((y - centery)**2 + (x - centerx)**2) > 256**2\n",
      "\n",
      "lena[mask] = 0\n",
      "imshow(lena)"
     ],
     "language": "python",
     "metadata": {},
     "outputs": []
    }
   ],
   "metadata": {}
  }
 ]
}