{
 "metadata": {
  "name": "",
  "signature": "sha256:d8162b7c9f297cf6d68aee54c7a0ceb1601235f7e33913259e7453021e25f040"
 },
 "nbformat": 3,
 "nbformat_minor": 0,
 "worksheets": [
  {
   "cells": [
    {
     "cell_type": "heading",
     "level": 1,
     "metadata": {},
     "source": [
      "Midterm"
     ]
    },
    {
     "cell_type": "heading",
     "level": 3,
     "metadata": {},
     "source": [
      "Question 1"
     ]
    },
    {
     "cell_type": "code",
     "collapsed": false,
     "input": [
      "prefixes = 'JKLMNOPQ' \n",
      "suffix = 'ack'\n",
      "for letter in prefixes: \n",
      "    print letter + suffix"
     ],
     "language": "python",
     "metadata": {},
     "outputs": [
      {
       "output_type": "stream",
       "stream": "stdout",
       "text": [
        "Jack\n",
        "Kack\n",
        "Lack\n",
        "Mack\n",
        "Nack\n",
        "Oack\n",
        "Pack\n",
        "Qack\n"
       ]
      }
     ],
     "prompt_number": 1
    },
    {
     "cell_type": "heading",
     "level": 3,
     "metadata": {},
     "source": [
      "Solution"
     ]
    },
    {
     "cell_type": "code",
     "collapsed": false,
     "input": [
      "prefixes = 'JKLMNOPQ' \n",
      "suffix = 'ack'\n",
      "for letter in prefixes: \n",
      "    if letter == 'O' or letter == 'Q':\n",
      "        print letter + 'u' + suffix\n",
      "    else: \n",
      "        print letter + suffix"
     ],
     "language": "python",
     "metadata": {},
     "outputs": [
      {
       "output_type": "stream",
       "stream": "stdout",
       "text": [
        "Jack\n",
        "Kack\n",
        "Lack\n",
        "Mack\n",
        "Nack\n",
        "Ouack\n",
        "Pack\n",
        "Quack\n"
       ]
      }
     ],
     "prompt_number": 2
    },
    {
     "cell_type": "heading",
     "level": 2,
     "metadata": {},
     "source": [
      "Question 2"
     ]
    },
    {
     "cell_type": "code",
     "collapsed": false,
     "input": [
      "from ipythonblocks import BlockGrid"
     ],
     "language": "python",
     "metadata": {},
     "outputs": [],
     "prompt_number": 3
    },
    {
     "cell_type": "code",
     "collapsed": false,
     "input": [
      "grid = BlockGrid(8,8, fill=(123, 234, 123))\n",
      "grid[0,1:6]= (0,0,0)\n",
      "grid[1,6]=(0,0,0)\n",
      "grid[1:3,1]=(0,0,0)\n",
      "grid[3,2]=(0,0,0)\n",
      "grid[3,2:6]=(0,0,0)\n",
      "grid[4,6]=(0,0,0)\n",
      "grid[5:7,6]=(0,0,0)\n",
      "grid[7,1:6]=(0,0,0)\n",
      "grid"
     ],
     "language": "python",
     "metadata": {},
     "outputs": [
      {
       "html": [
        "<style type=\"text/css\">table.blockgrid {border: none;} .blockgrid tr {border: none;} .blockgrid td {padding: 0px;} #blockse8198bb4-ac6f-4995-a87b-ca7f6c725f61 td {border: 1px solid white;}</style><table id=\"blockse8198bb4-ac6f-4995-a87b-ca7f6c725f61\" class=\"blockgrid\"><tbody><tr><td title=\"Index: [0, 0]&#10;Color: (123, 234, 123)\" style=\"width: 20px; height: 20px;background-color: rgb(123, 234, 123);\"></td><td title=\"Index: [0, 1]&#10;Color: (0, 0, 0)\" style=\"width: 20px; height: 20px;background-color: rgb(0, 0, 0);\"></td><td title=\"Index: [0, 2]&#10;Color: (0, 0, 0)\" style=\"width: 20px; height: 20px;background-color: rgb(0, 0, 0);\"></td><td title=\"Index: [0, 3]&#10;Color: (0, 0, 0)\" style=\"width: 20px; height: 20px;background-color: rgb(0, 0, 0);\"></td><td title=\"Index: [0, 4]&#10;Color: (0, 0, 0)\" style=\"width: 20px; height: 20px;background-color: rgb(0, 0, 0);\"></td><td title=\"Index: [0, 5]&#10;Color: (0, 0, 0)\" style=\"width: 20px; height: 20px;background-color: rgb(0, 0, 0);\"></td><td title=\"Index: [0, 6]&#10;Color: (123, 234, 123)\" style=\"width: 20px; height: 20px;background-color: rgb(123, 234, 123);\"></td><td title=\"Index: [0, 7]&#10;Color: (123, 234, 123)\" style=\"width: 20px; height: 20px;background-color: rgb(123, 234, 123);\"></td></tr><tr><td title=\"Index: [1, 0]&#10;Color: (123, 234, 123)\" style=\"width: 20px; height: 20px;background-color: rgb(123, 234, 123);\"></td><td title=\"Index: [1, 1]&#10;Color: (0, 0, 0)\" style=\"width: 20px; height: 20px;background-color: rgb(0, 0, 0);\"></td><td title=\"Index: [1, 2]&#10;Color: (123, 234, 123)\" style=\"width: 20px; height: 20px;background-color: rgb(123, 234, 123);\"></td><td title=\"Index: [1, 3]&#10;Color: (123, 234, 123)\" style=\"width: 20px; height: 20px;background-color: rgb(123, 234, 123);\"></td><td title=\"Index: [1, 4]&#10;Color: (123, 234, 123)\" style=\"width: 20px; height: 20px;background-color: rgb(123, 234, 123);\"></td><td title=\"Index: [1, 5]&#10;Color: (123, 234, 123)\" style=\"width: 20px; height: 20px;background-color: rgb(123, 234, 123);\"></td><td title=\"Index: [1, 6]&#10;Color: (0, 0, 0)\" style=\"width: 20px; height: 20px;background-color: rgb(0, 0, 0);\"></td><td title=\"Index: [1, 7]&#10;Color: (123, 234, 123)\" style=\"width: 20px; height: 20px;background-color: rgb(123, 234, 123);\"></td></tr><tr><td title=\"Index: [2, 0]&#10;Color: (123, 234, 123)\" style=\"width: 20px; height: 20px;background-color: rgb(123, 234, 123);\"></td><td title=\"Index: [2, 1]&#10;Color: (0, 0, 0)\" style=\"width: 20px; height: 20px;background-color: rgb(0, 0, 0);\"></td><td title=\"Index: [2, 2]&#10;Color: (123, 234, 123)\" style=\"width: 20px; height: 20px;background-color: rgb(123, 234, 123);\"></td><td title=\"Index: [2, 3]&#10;Color: (123, 234, 123)\" style=\"width: 20px; height: 20px;background-color: rgb(123, 234, 123);\"></td><td title=\"Index: [2, 4]&#10;Color: (123, 234, 123)\" style=\"width: 20px; height: 20px;background-color: rgb(123, 234, 123);\"></td><td title=\"Index: [2, 5]&#10;Color: (123, 234, 123)\" style=\"width: 20px; height: 20px;background-color: rgb(123, 234, 123);\"></td><td title=\"Index: [2, 6]&#10;Color: (123, 234, 123)\" style=\"width: 20px; height: 20px;background-color: rgb(123, 234, 123);\"></td><td title=\"Index: [2, 7]&#10;Color: (123, 234, 123)\" style=\"width: 20px; height: 20px;background-color: rgb(123, 234, 123);\"></td></tr><tr><td title=\"Index: [3, 0]&#10;Color: (123, 234, 123)\" style=\"width: 20px; height: 20px;background-color: rgb(123, 234, 123);\"></td><td title=\"Index: [3, 1]&#10;Color: (123, 234, 123)\" style=\"width: 20px; height: 20px;background-color: rgb(123, 234, 123);\"></td><td title=\"Index: [3, 2]&#10;Color: (0, 0, 0)\" style=\"width: 20px; height: 20px;background-color: rgb(0, 0, 0);\"></td><td title=\"Index: [3, 3]&#10;Color: (0, 0, 0)\" style=\"width: 20px; height: 20px;background-color: rgb(0, 0, 0);\"></td><td title=\"Index: [3, 4]&#10;Color: (0, 0, 0)\" style=\"width: 20px; height: 20px;background-color: rgb(0, 0, 0);\"></td><td title=\"Index: [3, 5]&#10;Color: (0, 0, 0)\" style=\"width: 20px; height: 20px;background-color: rgb(0, 0, 0);\"></td><td title=\"Index: [3, 6]&#10;Color: (123, 234, 123)\" style=\"width: 20px; height: 20px;background-color: rgb(123, 234, 123);\"></td><td title=\"Index: [3, 7]&#10;Color: (123, 234, 123)\" style=\"width: 20px; height: 20px;background-color: rgb(123, 234, 123);\"></td></tr><tr><td title=\"Index: [4, 0]&#10;Color: (123, 234, 123)\" style=\"width: 20px; height: 20px;background-color: rgb(123, 234, 123);\"></td><td title=\"Index: [4, 1]&#10;Color: (123, 234, 123)\" style=\"width: 20px; height: 20px;background-color: rgb(123, 234, 123);\"></td><td title=\"Index: [4, 2]&#10;Color: (123, 234, 123)\" style=\"width: 20px; height: 20px;background-color: rgb(123, 234, 123);\"></td><td title=\"Index: [4, 3]&#10;Color: (123, 234, 123)\" style=\"width: 20px; height: 20px;background-color: rgb(123, 234, 123);\"></td><td title=\"Index: [4, 4]&#10;Color: (123, 234, 123)\" style=\"width: 20px; height: 20px;background-color: rgb(123, 234, 123);\"></td><td title=\"Index: [4, 5]&#10;Color: (123, 234, 123)\" style=\"width: 20px; height: 20px;background-color: rgb(123, 234, 123);\"></td><td title=\"Index: [4, 6]&#10;Color: (0, 0, 0)\" style=\"width: 20px; height: 20px;background-color: rgb(0, 0, 0);\"></td><td title=\"Index: [4, 7]&#10;Color: (123, 234, 123)\" style=\"width: 20px; height: 20px;background-color: rgb(123, 234, 123);\"></td></tr><tr><td title=\"Index: [5, 0]&#10;Color: (123, 234, 123)\" style=\"width: 20px; height: 20px;background-color: rgb(123, 234, 123);\"></td><td title=\"Index: [5, 1]&#10;Color: (123, 234, 123)\" style=\"width: 20px; height: 20px;background-color: rgb(123, 234, 123);\"></td><td title=\"Index: [5, 2]&#10;Color: (123, 234, 123)\" style=\"width: 20px; height: 20px;background-color: rgb(123, 234, 123);\"></td><td title=\"Index: [5, 3]&#10;Color: (123, 234, 123)\" style=\"width: 20px; height: 20px;background-color: rgb(123, 234, 123);\"></td><td title=\"Index: [5, 4]&#10;Color: (123, 234, 123)\" style=\"width: 20px; height: 20px;background-color: rgb(123, 234, 123);\"></td><td title=\"Index: [5, 5]&#10;Color: (123, 234, 123)\" style=\"width: 20px; height: 20px;background-color: rgb(123, 234, 123);\"></td><td title=\"Index: [5, 6]&#10;Color: (0, 0, 0)\" style=\"width: 20px; height: 20px;background-color: rgb(0, 0, 0);\"></td><td title=\"Index: [5, 7]&#10;Color: (123, 234, 123)\" style=\"width: 20px; height: 20px;background-color: rgb(123, 234, 123);\"></td></tr><tr><td title=\"Index: [6, 0]&#10;Color: (123, 234, 123)\" style=\"width: 20px; height: 20px;background-color: rgb(123, 234, 123);\"></td><td title=\"Index: [6, 1]&#10;Color: (123, 234, 123)\" style=\"width: 20px; height: 20px;background-color: rgb(123, 234, 123);\"></td><td title=\"Index: [6, 2]&#10;Color: (123, 234, 123)\" style=\"width: 20px; height: 20px;background-color: rgb(123, 234, 123);\"></td><td title=\"Index: [6, 3]&#10;Color: (123, 234, 123)\" style=\"width: 20px; height: 20px;background-color: rgb(123, 234, 123);\"></td><td title=\"Index: [6, 4]&#10;Color: (123, 234, 123)\" style=\"width: 20px; height: 20px;background-color: rgb(123, 234, 123);\"></td><td title=\"Index: [6, 5]&#10;Color: (123, 234, 123)\" style=\"width: 20px; height: 20px;background-color: rgb(123, 234, 123);\"></td><td title=\"Index: [6, 6]&#10;Color: (0, 0, 0)\" style=\"width: 20px; height: 20px;background-color: rgb(0, 0, 0);\"></td><td title=\"Index: [6, 7]&#10;Color: (123, 234, 123)\" style=\"width: 20px; height: 20px;background-color: rgb(123, 234, 123);\"></td></tr><tr><td title=\"Index: [7, 0]&#10;Color: (123, 234, 123)\" style=\"width: 20px; height: 20px;background-color: rgb(123, 234, 123);\"></td><td title=\"Index: [7, 1]&#10;Color: (0, 0, 0)\" style=\"width: 20px; height: 20px;background-color: rgb(0, 0, 0);\"></td><td title=\"Index: [7, 2]&#10;Color: (0, 0, 0)\" style=\"width: 20px; height: 20px;background-color: rgb(0, 0, 0);\"></td><td title=\"Index: [7, 3]&#10;Color: (0, 0, 0)\" style=\"width: 20px; height: 20px;background-color: rgb(0, 0, 0);\"></td><td title=\"Index: [7, 4]&#10;Color: (0, 0, 0)\" style=\"width: 20px; height: 20px;background-color: rgb(0, 0, 0);\"></td><td title=\"Index: [7, 5]&#10;Color: (0, 0, 0)\" style=\"width: 20px; height: 20px;background-color: rgb(0, 0, 0);\"></td><td title=\"Index: [7, 6]&#10;Color: (123, 234, 123)\" style=\"width: 20px; height: 20px;background-color: rgb(123, 234, 123);\"></td><td title=\"Index: [7, 7]&#10;Color: (123, 234, 123)\" style=\"width: 20px; height: 20px;background-color: rgb(123, 234, 123);\"></td></tr></tbody></table>"
       ],
       "metadata": {},
       "output_type": "pyout",
       "prompt_number": 27,
       "text": [
        "<ipythonblocks.ipythonblocks.BlockGrid at 0x1024bd3d0>"
       ]
      }
     ],
     "prompt_number": 27
    },
    {
     "cell_type": "heading",
     "level": 3,
     "metadata": {},
     "source": [
      "Question 3"
     ]
    },
    {
     "cell_type": "code",
     "collapsed": false,
     "input": [
      "def song():\n",
      "    b = 99\n",
      "    while b>=1:\n",
      "        print b, \"bottles of beer on the wall, \" , b , 'bottles of beer. Take one down, pass it around, ' , (b-1) , 'bottles of beer on the wall.'\n",
      "        b = b-1"
     ],
     "language": "python",
     "metadata": {},
     "outputs": [],
     "prompt_number": 38
    },
    {
     "cell_type": "code",
     "collapsed": false,
     "input": [
      "song()"
     ],
     "language": "python",
     "metadata": {},
     "outputs": [
      {
       "output_type": "stream",
       "stream": "stdout",
       "text": [
        "99 bottles of beer on the wall,  99 bottles of beer. Take one down, pass it around,  98 bottles of beer on the wall.\n",
        "98 bottles of beer on the wall,  98 bottles of beer. Take one down, pass it around,  97 bottles of beer on the wall.\n",
        "97 bottles of beer on the wall,  97 bottles of beer. Take one down, pass it around,  96 bottles of beer on the wall.\n",
        "96 bottles of beer on the wall,  96 bottles of beer. Take one down, pass it around,  95 bottles of beer on the wall.\n",
        "95 bottles of beer on the wall,  95 bottles of beer. Take one down, pass it around,  94 bottles of beer on the wall.\n",
        "94 bottles of beer on the wall,  94 bottles of beer. Take one down, pass it around,  93 bottles of beer on the wall.\n",
        "93 bottles of beer on the wall,  93 bottles of beer. Take one down, pass it around,  92 bottles of beer on the wall.\n",
        "92 bottles of beer on the wall,  92 bottles of beer. Take one down, pass it around,  91 bottles of beer on the wall.\n",
        "91 bottles of beer on the wall,  91 bottles of beer. Take one down, pass it around,  90 bottles of beer on the wall.\n",
        "90 bottles of beer on the wall,  90 bottles of beer. Take one down, pass it around,  89 bottles of beer on the wall.\n",
        "89 bottles of beer on the wall,  89 bottles of beer. Take one down, pass it around,  88 bottles of beer on the wall.\n",
        "88 bottles of beer on the wall,  88 bottles of beer. Take one down, pass it around,  87 bottles of beer on the wall.\n",
        "87 bottles of beer on the wall,  87 bottles of beer. Take one down, pass it around,  86 bottles of beer on the wall.\n",
        "86 bottles of beer on the wall,  86 bottles of beer. Take one down, pass it around,  85 bottles of beer on the wall.\n",
        "85 bottles of beer on the wall,  85 bottles of beer. Take one down, pass it around,  84 bottles of beer on the wall.\n",
        "84 bottles of beer on the wall,  84 bottles of beer. Take one down, pass it around,  83 bottles of beer on the wall.\n",
        "83 bottles of beer on the wall,  83 bottles of beer. Take one down, pass it around,  82 bottles of beer on the wall.\n",
        "82 bottles of beer on the wall,  82 bottles of beer. Take one down, pass it around,  81 bottles of beer on the wall.\n",
        "81 bottles of beer on the wall,  81 bottles of beer. Take one down, pass it around,  80 bottles of beer on the wall.\n",
        "80 bottles of beer on the wall,  80 bottles of beer. Take one down, pass it around,  79 bottles of beer on the wall.\n",
        "79 bottles of beer on the wall,  79 bottles of beer. Take one down, pass it around,  78 bottles of beer on the wall.\n",
        "78 bottles of beer on the wall,  78 bottles of beer. Take one down, pass it around,  77 bottles of beer on the wall.\n",
        "77 bottles of beer on the wall,  77 bottles of beer. Take one down, pass it around,  76 bottles of beer on the wall.\n",
        "76 bottles of beer on the wall,  76 bottles of beer. Take one down, pass it around,  75 bottles of beer on the wall.\n",
        "75 bottles of beer on the wall,  75 bottles of beer. Take one down, pass it around,  74 bottles of beer on the wall.\n",
        "74 bottles of beer on the wall,  74 bottles of beer. Take one down, pass it around,  73 bottles of beer on the wall.\n",
        "73 bottles of beer on the wall,  73 bottles of beer. Take one down, pass it around,  72 bottles of beer on the wall.\n",
        "72 bottles of beer on the wall,  72 bottles of beer. Take one down, pass it around,  71 bottles of beer on the wall.\n",
        "71 bottles of beer on the wall,  71 bottles of beer. Take one down, pass it around,  70 bottles of beer on the wall.\n",
        "70 bottles of beer on the wall,  70 bottles of beer. Take one down, pass it around,  69 bottles of beer on the wall.\n",
        "69 bottles of beer on the wall,  69 bottles of beer. Take one down, pass it around,  68 bottles of beer on the wall.\n",
        "68 bottles of beer on the wall,  68 bottles of beer. Take one down, pass it around,  67 bottles of beer on the wall.\n",
        "67 bottles of beer on the wall,  67 bottles of beer. Take one down, pass it around,  66 bottles of beer on the wall.\n",
        "66 bottles of beer on the wall,  66 bottles of beer. Take one down, pass it around,  65 bottles of beer on the wall.\n",
        "65 bottles of beer on the wall,  65 bottles of beer. Take one down, pass it around,  64 bottles of beer on the wall.\n",
        "64 bottles of beer on the wall,  64 bottles of beer. Take one down, pass it around,  63 bottles of beer on the wall.\n",
        "63 bottles of beer on the wall,  63 bottles of beer. Take one down, pass it around,  62 bottles of beer on the wall.\n",
        "62 bottles of beer on the wall,  62 bottles of beer. Take one down, pass it around,  61 bottles of beer on the wall.\n",
        "61 bottles of beer on the wall,  61 bottles of beer. Take one down, pass it around,  60 bottles of beer on the wall.\n",
        "60 bottles of beer on the wall,  60 bottles of beer. Take one down, pass it around,  59 bottles of beer on the wall.\n",
        "59 bottles of beer on the wall,  59 bottles of beer. Take one down, pass it around,  58 bottles of beer on the wall.\n",
        "58 bottles of beer on the wall,  58 bottles of beer. Take one down, pass it around,  57 bottles of beer on the wall.\n",
        "57 bottles of beer on the wall,  57 bottles of beer. Take one down, pass it around,  56 bottles of beer on the wall.\n",
        "56 bottles of beer on the wall,  56 bottles of beer. Take one down, pass it around,  55 bottles of beer on the wall.\n",
        "55 bottles of beer on the wall,  55 bottles of beer. Take one down, pass it around,  54 bottles of beer on the wall.\n",
        "54 bottles of beer on the wall,  54 bottles of beer. Take one down, pass it around,  53 bottles of beer on the wall.\n",
        "53 bottles of beer on the wall,  53 bottles of beer. Take one down, pass it around,  52 bottles of beer on the wall.\n",
        "52 bottles of beer on the wall,  52 bottles of beer. Take one down, pass it around,  51 bottles of beer on the wall.\n",
        "51 bottles of beer on the wall,  51 bottles of beer. Take one down, pass it around,  50 bottles of beer on the wall.\n",
        "50 bottles of beer on the wall,  50 bottles of beer. Take one down, pass it around,  49 bottles of beer on the wall.\n",
        "49 bottles of beer on the wall,  49 bottles of beer. Take one down, pass it around,  48 bottles of beer on the wall.\n",
        "48 bottles of beer on the wall,  48 bottles of beer. Take one down, pass it around,  47 bottles of beer on the wall.\n",
        "47 bottles of beer on the wall,  47 bottles of beer. Take one down, pass it around,  46 bottles of beer on the wall.\n",
        "46 bottles of beer on the wall,  46 bottles of beer. Take one down, pass it around,  45 bottles of beer on the wall.\n",
        "45 bottles of beer on the wall,  45 bottles of beer. Take one down, pass it around,  44 bottles of beer on the wall.\n",
        "44 bottles of beer on the wall,  44 bottles of beer. Take one down, pass it around,  43 bottles of beer on the wall.\n",
        "43 bottles of beer on the wall,  43 bottles of beer. Take one down, pass it around,  42 bottles of beer on the wall.\n",
        "42 bottles of beer on the wall,  42 bottles of beer. Take one down, pass it around,  41 bottles of beer on the wall.\n",
        "41 bottles of beer on the wall,  41 bottles of beer. Take one down, pass it around,  40 bottles of beer on the wall.\n",
        "40 bottles of beer on the wall,  40 bottles of beer. Take one down, pass it around,  39 bottles of beer on the wall.\n",
        "39 bottles of beer on the wall,  39 bottles of beer. Take one down, pass it around,  38 bottles of beer on the wall.\n",
        "38 bottles of beer on the wall,  38 bottles of beer. Take one down, pass it around,  37 bottles of beer on the wall.\n",
        "37 bottles of beer on the wall,  37 bottles of beer. Take one down, pass it around,  36 bottles of beer on the wall.\n",
        "36 bottles of beer on the wall,  36 bottles of beer. Take one down, pass it around,  35 bottles of beer on the wall.\n",
        "35 bottles of beer on the wall,  35 bottles of beer. Take one down, pass it around,  34 bottles of beer on the wall.\n",
        "34 bottles of beer on the wall,  34 bottles of beer. Take one down, pass it around,  33 bottles of beer on the wall.\n",
        "33 bottles of beer on the wall,  33 bottles of beer. Take one down, pass it around,  32 bottles of beer on the wall.\n",
        "32 bottles of beer on the wall,  32 bottles of beer. Take one down, pass it around,  31 bottles of beer on the wall.\n",
        "31 bottles of beer on the wall,  31 bottles of beer. Take one down, pass it around,  30 bottles of beer on the wall.\n",
        "30 bottles of beer on the wall,  30 bottles of beer. Take one down, pass it around,  29 bottles of beer on the wall.\n",
        "29 bottles of beer on the wall,  29 bottles of beer. Take one down, pass it around,  28 bottles of beer on the wall.\n",
        "28 bottles of beer on the wall,  28 bottles of beer. Take one down, pass it around,  27 bottles of beer on the wall.\n",
        "27 bottles of beer on the wall,  27 bottles of beer. Take one down, pass it around,  26 bottles of beer on the wall.\n",
        "26 bottles of beer on the wall,  26 bottles of beer. Take one down, pass it around,  25 bottles of beer on the wall.\n",
        "25 bottles of beer on the wall,  25 bottles of beer. Take one down, pass it around,  24 bottles of beer on the wall.\n",
        "24 bottles of beer on the wall,  24 bottles of beer. Take one down, pass it around,  23 bottles of beer on the wall.\n",
        "23 bottles of beer on the wall,  23 bottles of beer. Take one down, pass it around,  22 bottles of beer on the wall.\n",
        "22 bottles of beer on the wall,  22 bottles of beer. Take one down, pass it around,  21 bottles of beer on the wall.\n",
        "21 bottles of beer on the wall,  21 bottles of beer. Take one down, pass it around,  20 bottles of beer on the wall.\n",
        "20 bottles of beer on the wall,  20 bottles of beer. Take one down, pass it around,  19 bottles of beer on the wall.\n",
        "19 bottles of beer on the wall,  19 bottles of beer. Take one down, pass it around,  18 bottles of beer on the wall.\n",
        "18 bottles of beer on the wall,  18 bottles of beer. Take one down, pass it around,  17 bottles of beer on the wall.\n",
        "17 bottles of beer on the wall,  17 bottles of beer. Take one down, pass it around,  16 bottles of beer on the wall.\n",
        "16 bottles of beer on the wall,  16 bottles of beer. Take one down, pass it around,  15 bottles of beer on the wall.\n",
        "15 bottles of beer on the wall,  15 bottles of beer. Take one down, pass it around,  14 bottles of beer on the wall.\n",
        "14 bottles of beer on the wall,  14 bottles of beer. Take one down, pass it around,  13 bottles of beer on the wall.\n",
        "13 bottles of beer on the wall,  13 bottles of beer. Take one down, pass it around,  12 bottles of beer on the wall.\n",
        "12 bottles of beer on the wall,  12 bottles of beer. Take one down, pass it around,  11 bottles of beer on the wall.\n",
        "11 bottles of beer on the wall,  11 bottles of beer. Take one down, pass it around,  10 bottles of beer on the wall.\n",
        "10 bottles of beer on the wall,  10 bottles of beer. Take one down, pass it around,  9 bottles of beer on the wall.\n",
        "9 bottles of beer on the wall,  9 bottles of beer. Take one down, pass it around,  8 bottles of beer on the wall.\n",
        "8 bottles of beer on the wall,  8 bottles of beer. Take one down, pass it around,  7 bottles of beer on the wall.\n",
        "7 bottles of beer on the wall,  7 bottles of beer. Take one down, pass it around,  6 bottles of beer on the wall.\n",
        "6 bottles of beer on the wall,  6 bottles of beer. Take one down, pass it around,  5 bottles of beer on the wall.\n",
        "5 bottles of beer on the wall,  5 bottles of beer. Take one down, pass it around,  4 bottles of beer on the wall.\n",
        "4 bottles of beer on the wall,  4 bottles of beer. Take one down, pass it around,  3 bottles of beer on the wall.\n",
        "3 bottles of beer on the wall,  3 bottles of beer. Take one down, pass it around,  2 bottles of beer on the wall.\n",
        "2 bottles of beer on the wall,  2 bottles of beer. Take one down, pass it around,  1 bottles of beer on the wall.\n",
        "1 bottles of beer on the wall,  1 bottles of beer. Take one down, pass it around,  0 bottles of beer on the wall.\n"
       ]
      }
     ],
     "prompt_number": 39
    },
    {
     "cell_type": "heading",
     "level": 3,
     "metadata": {},
     "source": [
      "Question 4"
     ]
    },
    {
     "cell_type": "code",
     "collapsed": false,
     "input": [
      "%pylab inline"
     ],
     "language": "python",
     "metadata": {},
     "outputs": [
      {
       "output_type": "stream",
       "stream": "stdout",
       "text": [
        "Populating the interactive namespace from numpy and matplotlib\n"
       ]
      }
     ],
     "prompt_number": 47
    },
    {
     "cell_type": "code",
     "collapsed": false,
     "input": [
      "x = np.linspace(0,3,31)\n",
      "y = np.sin(x)\n",
      "\n",
      "plt.plot(x,y, 'D', markersize= 7, color = 'g')\n",
      "ax=plt.gca()\n",
      "ax.spines['right'].set_color('none')\n",
      "ax.spines['top'].set_color('none')\n",
      "ax.xaxis.set_ticks_position('bottom')\n",
      "ax.spines['bottom'].set_position(('data',0))\n",
      "ax.yaxis.set_ticks_position('left')\n",
      "ax.spines['left'].set_position(('data',0))\n",
      "plt.plot(x,y,color=\"red\", linestyle = \"-\", label = \"sine\")\n",
      "plt.legend(loc='upper left')\n",
      "ax.set_title('Sin from 0 to 3',fontsize=20)\n",
      "ax.set_xlabel('x',fontsize=20)\n",
      "ax.set_ylabel('y',fontsize=20)"
     ],
     "language": "python",
     "metadata": {},
     "outputs": [
      {
       "metadata": {},
       "output_type": "pyout",
       "prompt_number": 72,
       "text": [
        "<matplotlib.text.Text at 0x1079e7a90>"
       ]
      },
      {
       "metadata": {},
       "output_type": "display_data",
       "png": "[encoded data removed]",
       "text": [
        "<matplotlib.figure.Figure at 0x1079ce2d0>"
       ]
      }
     ],
     "prompt_number": 72
    },
    {
     "cell_type": "markdown",
     "metadata": {},
     "source": []
    },
    {
     "cell_type": "heading",
     "level": 3,
     "metadata": {},
     "source": [
      "Question 5"
     ]
    },
    {
     "cell_type": "code",
     "collapsed": false,
     "input": [],
     "language": "python",
     "metadata": {},
     "outputs": []
    }
   ],
   "metadata": {}
  }
 ]
}