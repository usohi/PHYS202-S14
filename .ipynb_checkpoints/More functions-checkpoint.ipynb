{
 "metadata": {
  "name": "",
  "signature": "sha256:7cfb4ede20d3b69211a72481f791aba3e182a0734068733ccb8d13d2a2824200"
 },
 "nbformat": 3,
 "nbformat_minor": 0,
 "worksheets": []
}