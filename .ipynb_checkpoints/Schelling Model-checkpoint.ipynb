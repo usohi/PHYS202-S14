{
 "metadata": {
  "name": "",
  "signature": "sha256:76303e7f6f12a8fbfd91e1e6e69199a3132dd0f12a699bc71845a09080da18ec"
 },
 "nbformat": 3,
 "nbformat_minor": 0,
 "worksheets": []
}