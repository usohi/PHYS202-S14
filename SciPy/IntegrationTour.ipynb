{
 "metadata": {
  "name": "",
  "signature": "sha256:510c8e1f8420f8549926d4d1b7b85494e63257279d462709d5232bfdd09facbd"
 },
 "nbformat": 3,
 "nbformat_minor": 0,
 "worksheets": [
  {
   "cells": [
    {
     "cell_type": "heading",
     "level": 1,
     "metadata": {},
     "source": [
      "Numerical Integration"
     ]
    },
    {
     "cell_type": "code",
     "collapsed": false,
     "input": [
      "%pylab inline\n",
      "import numpy as np\n",
      "import matplotlib.pyplot as plt"
     ],
     "language": "python",
     "metadata": {},
     "outputs": [
      {
       "output_type": "stream",
       "stream": "stdout",
       "text": [
        "Populating the interactive namespace from numpy and matplotlib\n"
       ]
      }
     ],
     "prompt_number": 1
    },
    {
     "cell_type": "code",
     "collapsed": false,
     "input": [
      "func = lambda x: x**4 - 2*x + 1"
     ],
     "language": "python",
     "metadata": {},
     "outputs": [],
     "prompt_number": 2
    },
    {
     "cell_type": "code",
     "collapsed": false,
     "input": [
      "N= 10 \n",
      "a = 0.0\n",
      "b = 2.0\n",
      "h = (b-a)/N\n",
      "\n",
      "k = np.arange(1,N)\n",
      "I = h*(0.5*func(a) + 0.5*func(b) + func(a+k*h).sum())\n",
      "\n",
      "print \"Trapezoidal Rule Integral = \",I"
     ],
     "language": "python",
     "metadata": {},
     "outputs": [
      {
       "output_type": "stream",
       "stream": "stdout",
       "text": [
        "Trapezoidal Rule Integral =  4.50656\n"
       ]
      }
     ],
     "prompt_number": 17
    },
    {
     "cell_type": "heading",
     "level": 3,
     "metadata": {},
     "source": [
      "Simpson's Rule"
     ]
    },
    {
     "cell_type": "code",
     "collapsed": false,
     "input": [
      "N = 10\n",
      "a = 0.0\n",
      "b = 2.0\n",
      "h = (b-a)/N\n",
      "\n",
      "k1 = np.arange(1,N/2+1)\n",
      "k2 = np.arange(1,N/2)\n",
      "I = (1./3.)*h*(func(a) + func(b) + 4.*func(a+(2*k1-1)*h).sum() + 2.*func(a+2*k2*h).sum())\n",
      "\n",
      "print \"Simpson's rule Integral=\",I"
     ],
     "language": "python",
     "metadata": {},
     "outputs": [
      {
       "output_type": "stream",
       "stream": "stdout",
       "text": [
        "Simpson's rule Integral= 4.40042666667\n"
       ]
      }
     ],
     "prompt_number": 4
    },
    {
     "cell_type": "heading",
     "level": 3,
     "metadata": {},
     "source": [
      "scipy.integrate"
     ]
    },
    {
     "cell_type": "code",
     "collapsed": false,
     "input": [
      "import scipy.integrate as integrate"
     ],
     "language": "python",
     "metadata": {},
     "outputs": [],
     "prompt_number": 5
    },
    {
     "cell_type": "code",
     "collapsed": false,
     "input": [
      "fun = lambda x : np.exp(-x)*np.sin(x)\n",
      "\n",
      "result,error = integrate.quad(fun, 0, 2*np.pi)\n",
      "\n",
      "print result,error"
     ],
     "language": "python",
     "metadata": {},
     "outputs": [
      {
       "output_type": "stream",
       "stream": "stdout",
       "text": [
        "0.499066278634 6.02373163193e-15\n"
       ]
      }
     ],
     "prompt_number": 6
    },
    {
     "cell_type": "code",
     "collapsed": false,
     "input": [
      "I = integrate.quad(fun, 0, np.infty)\n",
      "\n",
      "print I"
     ],
     "language": "python",
     "metadata": {},
     "outputs": [
      {
       "output_type": "stream",
       "stream": "stdout",
       "text": [
        "(0.5000000000000002, 1.4875911973447031e-08)\n"
       ]
      }
     ],
     "prompt_number": 10
    },
    {
     "cell_type": "code",
     "collapsed": false,
     "input": [
      "print abs(I[0]-0.5)"
     ],
     "language": "python",
     "metadata": {},
     "outputs": [
      {
       "output_type": "stream",
       "stream": "stdout",
       "text": [
        "2.22044604925e-16\n"
       ]
      }
     ],
     "prompt_number": 11
    },
    {
     "cell_type": "heading",
     "level": 3,
     "metadata": {},
     "source": [
      "Integrating array data"
     ]
    },
    {
     "cell_type": "code",
     "collapsed": false,
     "input": [
      "x = np.arange(0,20,2)\n",
      "y = np.array([0,3,5,2,8,9,0,-3,4,9], dtype=float)\n",
      "plt.plot(x,y)\n",
      "\n",
      "plt.fill_between(x,y,y2=0,color='red',hatch='//',alpha=0.2)\n",
      "\n",
      "plt.show()"
     ],
     "language": "python",
     "metadata": {},
     "outputs": [
      {
       "metadata": {},
       "output_type": "display_data",
       "png": "[encoded data removed]",
       "text": [
        "<matplotlib.figure.Figure at 0x10675cfd0>"
       ]
      }
     ],
     "prompt_number": 12
    },
    {
     "cell_type": "code",
     "collapsed": false,
     "input": [
      "I = integrate.simps(y,x)\n",
      "print \"Simpson's Rule Integral for discrete samples = \",I"
     ],
     "language": "python",
     "metadata": {},
     "outputs": [
      {
       "output_type": "stream",
       "stream": "stdout",
       "text": [
        "Simpson's Rule Integral for discrete samples =  64.6666666667\n"
       ]
      }
     ],
     "prompt_number": 13
    },
    {
     "cell_type": "heading",
     "level": 3,
     "metadata": {},
     "source": [
      "Multiple Integrals"
     ]
    },
    {
     "cell_type": "code",
     "collapsed": false,
     "input": [
      "from scipy.integrate import dblquad\n",
      "\n",
      "integrand = lambda y,x: y * np.sin(x) + x * np.cos(y)\n",
      "\n",
      "xmin = np.pi\n",
      "xmax = 2*np.pi\n",
      "\n",
      "ymin = lambda x : 0\n",
      "ymax = lambda x : np.pi\n",
      "\n",
      "ans, err = dblquad(integrand, xmin, xmax, ymin, ymax)\n",
      "print \"The double integral is =\",ans"
     ],
     "language": "python",
     "metadata": {},
     "outputs": [
      {
       "output_type": "stream",
       "stream": "stdout",
       "text": [
        "The double integral is = -9.86960440109\n"
       ]
      }
     ],
     "prompt_number": 14
    },
    {
     "cell_type": "code",
     "collapsed": false,
     "input": [
      "help(dblquad)"
     ],
     "language": "python",
     "metadata": {},
     "outputs": [
      {
       "output_type": "stream",
       "stream": "stdout",
       "text": [
        "Help on function dblquad in module scipy.integrate.quadpack:\n",
        "\n",
        "dblquad(func, a, b, gfun, hfun, args=(), epsabs=1.49e-08, epsrel=1.49e-08)\n",
        "    Compute a double integral.\n",
        "    \n",
        "    Return the double (definite) integral of ``func(y, x)`` from ``x = a..b``\n",
        "    and ``y = gfun(x)..hfun(x)``.\n",
        "    \n",
        "    Parameters\n",
        "    ----------\n",
        "    func : callable\n",
        "        A Python function or method of at least two variables: y must be the\n",
        "        first argument and x the second argument.\n",
        "    (a,b) : tuple\n",
        "        The limits of integration in x: `a` < `b`\n",
        "    gfun : callable\n",
        "        The lower boundary curve in y which is a function taking a single\n",
        "        floating point argument (x) and returning a floating point result: a\n",
        "        lambda function can be useful here.\n",
        "    hfun : callable\n",
        "        The upper boundary curve in y (same requirements as `gfun`).\n",
        "    args : sequence, optional\n",
        "        Extra arguments to pass to `func`.\n",
        "    epsabs : float, optional\n",
        "        Absolute tolerance passed directly to the inner 1-D quadrature\n",
        "        integration. Default is 1.49e-8.\n",
        "    epsrel : float\n",
        "        Relative tolerance of the inner 1-D integrals. Default is 1.49e-8.\n",
        "    \n",
        "    Returns\n",
        "    -------\n",
        "    y : float\n",
        "        The resultant integral.\n",
        "    abserr : float\n",
        "        An estimate of the error.\n",
        "    \n",
        "    See also\n",
        "    --------\n",
        "    quad : single integral\n",
        "    tplquad : triple integral\n",
        "    nquad : N-dimensional integrals\n",
        "    fixed_quad : fixed-order Gaussian quadrature\n",
        "    quadrature : adaptive Gaussian quadrature\n",
        "    odeint : ODE integrator\n",
        "    ode : ODE integrator\n",
        "    simps : integrator for sampled data\n",
        "    romb : integrator for sampled data\n",
        "    scipy.special : for coefficients and roots of orthogonal polynomials\n",
        "\n"
       ]
      }
     ],
     "prompt_number": 15
    },
    {
     "cell_type": "code",
     "collapsed": false,
     "input": [
      "from scipy.integrate import tplquad\n",
      "\n",
      "integrand = lambda z,y,x: y* np.sin(x) + z * np.cos(x)\n",
      "\n",
      "xmin = 0\n",
      "xmax = np.pi\n",
      "\n",
      "ymin = lambda x: 0\n",
      "ymax = lambda x: 1\n",
      "\n",
      "zmin = lambda x,y: -1\n",
      "zmax = lambda x,y: 1\n",
      "\n",
      "ans, err = tplquad(integrand, xmin, xmax, ymin, ymax, zmin, zmax)\n",
      "print \"The triple integral =\",ans"
     ],
     "language": "python",
     "metadata": {},
     "outputs": [
      {
       "output_type": "stream",
       "stream": "stdout",
       "text": [
        "The triple integral = 2.0\n"
       ]
      }
     ],
     "prompt_number": 16
    },
    {
     "cell_type": "code",
     "collapsed": false,
     "input": [],
     "language": "python",
     "metadata": {},
     "outputs": []
    }
   ],
   "metadata": {}
  }
 ]
}