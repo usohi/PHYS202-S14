{
 "metadata": {
  "name": "",
  "signature": "sha256:a4a63910da497c952fdc73e337f732e09dc0d53b1e3d1f64dfbc94ffeddc63d0"
 },
 "nbformat": 3,
 "nbformat_minor": 0,
 "worksheets": [
  {
   "cells": [
    {
     "cell_type": "heading",
     "level": 1,
     "metadata": {},
     "source": [
      "Differenetiation Exercises"
     ]
    },
    {
     "cell_type": "markdown",
     "metadata": {},
     "source": [
      "Question 1\n",
      "Let\u2019s explore the accuracy of numerical differentiation.\n",
      "(a) Write two functions called twoPtForwardDiff(x,y) and twoPtCenteredDiff(x,y) that take as arguments arrays of values x and y(x) and return the derivatives of y with respect to x. Make sure that the arrays returned by the function have the same shape as the input arrays.\n",
      "    def twoPtForwardDiff(x,y):\n",
      "        \"\"\"include a docstring to describe what your function does\"\"\"\n",
      "    \n",
      "        # your code goes here ...\n",
      "    \n",
      "        return dydx\n",
      "        \n",
      "    def twoPtCenteredDiff(x,y):\n",
      "        \"\"\"include a docstring to describe what your function does\"\"\"\n",
      "    \n",
      "        # your code goes here ...\n",
      "    \n",
      "        return dydx"
     ]
    },
    {
     "cell_type": "code",
     "collapsed": false,
     "input": [
      "def twoPtForwardDiff(x,y):\n",
      "    \"\"\"Finds derivative with respect to X using forward difference\"\"\"\n",
      "    dydx = np.zeros(y.shape,float)\n",
      "    dydx[0:-1] = np.diff(y)/np.diff(x)\n",
      "    dydx[-1] = (y[-1] - y[-2])/(x[-1] - x[-2])\n",
      "    dydx2[0] = (y[1]-y[0])/(x[1]-x[0]) #forward difference\n",
      "    return dydx\n",
      "    \n",
      "def twoPtCenteredDiff(x,y):\n",
      "    \"\"\"Finds derivative with respect to X using centered difference\"\"\"\n",
      "    \n",
      "    dydx = np.zeros(y.shape,float)\n",
      "    \n",
      "    dydx[1:-1] = (y[2:] - y[:-2])/(x[2:] - x[:-2]) #center difference\n",
      "    return dydx"
     ],
     "language": "python",
     "metadata": {},
     "outputs": [],
     "prompt_number": 5
    },
    {
     "cell_type": "markdown",
     "metadata": {},
     "source": [
      "(b) Use your functions to take the derivative of the function y=8x4+3x over the range 0 <x< 10, with steps of 0.1. How do you know they work correctly? (Hint: compare to the analytical result)."
     ]
    },
    {
     "cell_type": "code",
     "collapsed": false,
     "input": [
      "x = np.arange(0.,10.01,0.1)\n",
      "dydxExact = 8*x**4+3x\n",
      "twoPtForwardDiff(x,y)\n",
      "twoPtCenteredDiff(x,y)\n"
     ],
     "language": "python",
     "metadata": {},
     "outputs": []
    },
    {
     "cell_type": "markdown",
     "metadata": {},
     "source": [
      "\n",
      "(c) What is the accuracy of the results if you use a spacing of 0.01? (Plot the relative error)"
     ]
    },
    {
     "cell_type": "code",
     "collapsed": false,
     "input": [],
     "language": "python",
     "metadata": {},
     "outputs": []
    },
    {
     "cell_type": "markdown",
     "metadata": {},
     "source": [
      "(d) For what minimum spacing is the 2pt-centered difference derivative accurate to 5 significant figures over its full range (excluding the last point)?"
     ]
    },
    {
     "cell_type": "code",
     "collapsed": false,
     "input": [],
     "language": "python",
     "metadata": {},
     "outputs": []
    }
   ],
   "metadata": {}
  }
 ]
}