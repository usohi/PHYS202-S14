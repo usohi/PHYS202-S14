{
 "metadata": {
  "name": "",
  "signature": "sha256:4627fc442e329e8a98dd635aa1e78d7a8512937b185d1d55848b2d9d383786bc"
 },
 "nbformat": 3,
 "nbformat_minor": 0,
 "worksheets": [
  {
   "cells": [
    {
     "cell_type": "code",
     "collapsed": false,
     "input": [
      "%pylab inline\n",
      "import numpy as np\n",
      "import matplotlib.pyplot as plot"
     ],
     "language": "python",
     "metadata": {},
     "outputs": [
      {
       "output_type": "stream",
       "stream": "stdout",
       "text": [
        "Populating the interactive namespace from numpy and matplotlib\n"
       ]
      }
     ],
     "prompt_number": 4
    },
    {
     "cell_type": "heading",
     "level": 1,
     "metadata": {},
     "source": [
      "Random Numbers, Monte Carlo Sampling and Simulation Exercises"
     ]
    },
    {
     "cell_type": "markdown",
     "metadata": {},
     "source": [
      "Question 1\n",
      "The Weibull distribution, with parameters \u03b1>0 and \u03b2>0 is described by the density function\n",
      "f(x)={\u03b1\u03b2\u2212\u03b1x\u03b1\u22121e\u2212(x/\u03b2)\u03b10x>0otherwise\n",
      "(a) Solve for the CDF of the Weibull distribution analytically, using\n",
      "F(x)=\u222bx\u2212\u221ef(t)dt"
     ]
    },
    {
     "cell_type": "code",
     "collapsed": false,
     "input": [
      "x = np.arange(0.,50.,.01)\n",
      "f = lambda x: (a*b**-a)*(x**(a-1))*exp(-(x/b)**a)\n",
      "\n",
      "plt.plot(x,f(x),lw=3)"
     ],
     "language": "python",
     "metadata": {},
     "outputs": [
      {
       "ename": "NameError",
       "evalue": "global name 'a' is not defined",
       "output_type": "pyerr",
       "traceback": [
        "\u001b[0;31m---------------------------------------------------------------------------\u001b[0m\n\u001b[0;31mNameError\u001b[0m                                 Traceback (most recent call last)",
        "\u001b[0;32m<ipython-input-5-20772b3619d1>\u001b[0m in \u001b[0;36m<module>\u001b[0;34m()\u001b[0m\n\u001b[1;32m      1\u001b[0m \u001b[0mx\u001b[0m \u001b[0;34m=\u001b[0m \u001b[0mnp\u001b[0m\u001b[0;34m.\u001b[0m\u001b[0marange\u001b[0m\u001b[0;34m(\u001b[0m\u001b[0;36m0.\u001b[0m\u001b[0;34m,\u001b[0m\u001b[0;36m50.\u001b[0m\u001b[0;34m,\u001b[0m\u001b[0;36m.01\u001b[0m\u001b[0;34m)\u001b[0m\u001b[0;34m\u001b[0m\u001b[0m\n\u001b[1;32m      2\u001b[0m \u001b[0mf\u001b[0m \u001b[0;34m=\u001b[0m \u001b[0;32mlambda\u001b[0m \u001b[0mx\u001b[0m\u001b[0;34m:\u001b[0m \u001b[0;34m(\u001b[0m\u001b[0ma\u001b[0m\u001b[0;34m*\u001b[0m\u001b[0mb\u001b[0m\u001b[0;34m**\u001b[0m\u001b[0;34m-\u001b[0m\u001b[0ma\u001b[0m\u001b[0;34m)\u001b[0m\u001b[0;34m*\u001b[0m\u001b[0;34m(\u001b[0m\u001b[0mx\u001b[0m\u001b[0;34m**\u001b[0m\u001b[0;34m(\u001b[0m\u001b[0ma\u001b[0m\u001b[0;34m-\u001b[0m\u001b[0;36m1\u001b[0m\u001b[0;34m)\u001b[0m\u001b[0;34m)\u001b[0m\u001b[0;34m*\u001b[0m\u001b[0mexp\u001b[0m\u001b[0;34m(\u001b[0m\u001b[0;34m-\u001b[0m\u001b[0;34m(\u001b[0m\u001b[0mx\u001b[0m\u001b[0;34m/\u001b[0m\u001b[0mb\u001b[0m\u001b[0;34m)\u001b[0m\u001b[0;34m**\u001b[0m\u001b[0ma\u001b[0m\u001b[0;34m)\u001b[0m\u001b[0;34m\u001b[0m\u001b[0m\n\u001b[0;32m----> 3\u001b[0;31m \u001b[0mplt\u001b[0m\u001b[0;34m.\u001b[0m\u001b[0mplot\u001b[0m\u001b[0;34m(\u001b[0m\u001b[0mx\u001b[0m\u001b[0;34m,\u001b[0m\u001b[0mf\u001b[0m\u001b[0;34m(\u001b[0m\u001b[0mx\u001b[0m\u001b[0;34m)\u001b[0m\u001b[0;34m,\u001b[0m\u001b[0mlw\u001b[0m\u001b[0;34m=\u001b[0m\u001b[0;36m3\u001b[0m\u001b[0;34m)\u001b[0m\u001b[0;34m\u001b[0m\u001b[0m\n\u001b[0m",
        "\u001b[0;32m<ipython-input-5-20772b3619d1>\u001b[0m in \u001b[0;36m<lambda>\u001b[0;34m(x)\u001b[0m\n\u001b[1;32m      1\u001b[0m \u001b[0mx\u001b[0m \u001b[0;34m=\u001b[0m \u001b[0mnp\u001b[0m\u001b[0;34m.\u001b[0m\u001b[0marange\u001b[0m\u001b[0;34m(\u001b[0m\u001b[0;36m0.\u001b[0m\u001b[0;34m,\u001b[0m\u001b[0;36m50.\u001b[0m\u001b[0;34m,\u001b[0m\u001b[0;36m.01\u001b[0m\u001b[0;34m)\u001b[0m\u001b[0;34m\u001b[0m\u001b[0m\n\u001b[0;32m----> 2\u001b[0;31m \u001b[0mf\u001b[0m \u001b[0;34m=\u001b[0m \u001b[0;32mlambda\u001b[0m \u001b[0mx\u001b[0m\u001b[0;34m:\u001b[0m \u001b[0;34m(\u001b[0m\u001b[0ma\u001b[0m\u001b[0;34m*\u001b[0m\u001b[0mb\u001b[0m\u001b[0;34m**\u001b[0m\u001b[0;34m-\u001b[0m\u001b[0ma\u001b[0m\u001b[0;34m)\u001b[0m\u001b[0;34m*\u001b[0m\u001b[0;34m(\u001b[0m\u001b[0mx\u001b[0m\u001b[0;34m**\u001b[0m\u001b[0;34m(\u001b[0m\u001b[0ma\u001b[0m\u001b[0;34m-\u001b[0m\u001b[0;36m1\u001b[0m\u001b[0;34m)\u001b[0m\u001b[0;34m)\u001b[0m\u001b[0;34m*\u001b[0m\u001b[0mexp\u001b[0m\u001b[0;34m(\u001b[0m\u001b[0;34m-\u001b[0m\u001b[0;34m(\u001b[0m\u001b[0mx\u001b[0m\u001b[0;34m/\u001b[0m\u001b[0mb\u001b[0m\u001b[0;34m)\u001b[0m\u001b[0;34m**\u001b[0m\u001b[0ma\u001b[0m\u001b[0;34m)\u001b[0m\u001b[0;34m\u001b[0m\u001b[0m\n\u001b[0m\u001b[1;32m      3\u001b[0m \u001b[0mplt\u001b[0m\u001b[0;34m.\u001b[0m\u001b[0mplot\u001b[0m\u001b[0;34m(\u001b[0m\u001b[0mx\u001b[0m\u001b[0;34m,\u001b[0m\u001b[0mf\u001b[0m\u001b[0;34m(\u001b[0m\u001b[0mx\u001b[0m\u001b[0;34m)\u001b[0m\u001b[0;34m,\u001b[0m\u001b[0mlw\u001b[0m\u001b[0;34m=\u001b[0m\u001b[0;36m3\u001b[0m\u001b[0;34m)\u001b[0m\u001b[0;34m\u001b[0m\u001b[0m\n",
        "\u001b[0;31mNameError\u001b[0m: global name 'a' is not defined"
       ]
      }
     ],
     "prompt_number": 5
    },
    {
     "cell_type": "markdown",
     "metadata": {},
     "source": [
      "(b) Find the inverse of the CDF F\u22121(x) analytically."
     ]
    },
    {
     "cell_type": "code",
     "collapsed": false,
     "input": [],
     "language": "python",
     "metadata": {},
     "outputs": []
    },
    {
     "cell_type": "markdown",
     "metadata": {},
     "source": [
      "\n",
      "(c) Write a program to generate 10,000 samples from the Weibull distribution and plot the true distribution, the CDF and the sampled distribution as a histogram, all on the same graph. Let \u03b1 = 1.5, \u03b2 = 6.\n",
      "Note: Do not use the built-in Weibull function from numpy.random."
     ]
    },
    {
     "cell_type": "code",
     "collapsed": false,
     "input": [],
     "language": "python",
     "metadata": {},
     "outputs": []
    },
    {
     "cell_type": "markdown",
     "metadata": {},
     "source": [
      "(d) Run the four statistical tests of randomness (mean, variance, chi-square, K-S) on your results from question 1(c). Does it pass all of them?"
     ]
    },
    {
     "cell_type": "code",
     "collapsed": false,
     "input": [],
     "language": "python",
     "metadata": {},
     "outputs": []
    },
    {
     "cell_type": "markdown",
     "metadata": {},
     "source": [
      "Question 2\n",
      "The Beta(4,3) distribution has density\n",
      "f(x)={60x3(1\u2212x)200\u2264x\u22641otherwise\n",
      "The maximum of this distribution is f(0.6)=2.0736 (exactly).\n",
      "(a) Write a program that uses the Rejection Sampling Method to generate a set of 10,000 samples from this distribution and plot the density distribution, the CDF, and a histogram of the sampled distribution on the same graph.\n",
      "Note: Do not use the built-in Beta function from numpy.random."
     ]
    },
    {
     "cell_type": "code",
     "collapsed": false,
     "input": [],
     "language": "python",
     "metadata": {},
     "outputs": []
    },
    {
     "cell_type": "markdown",
     "metadata": {},
     "source": [
      "(b) Run the four statistical tests of randomness (mean, variance, chi-square, K-S) on your results from question 2(a). Does it pass all of them?"
     ]
    },
    {
     "cell_type": "code",
     "collapsed": false,
     "input": [],
     "language": "python",
     "metadata": {},
     "outputs": []
    },
    {
     "cell_type": "markdown",
     "metadata": {},
     "source": [
      "\n",
      "Question 3\n",
      "Nuclei are composed of an ensemble of tightly bound protons and neutrons. If two nuclei are made to collide at very high energies, such as at the CERN Large Hadron Collider (LHC), they can vaporize into quarks and gluons and form a Quark Gluon Plasma.\n",
      "The left-hand figure below shows two Au (gold) nuclei just after a grazing collision in which only a fraction of the 197 protons and neutrons (collectively called nucleons) actually interact. The right-hand side of the figure shows the substructure of the nucleons, which are composed of three quarks and the gluons that hold them together.\n",
      "\n",
      "Only some of the nucleons interact when the nuclei collide unless they hit perfectly head-on. We define the offset of the two nuclei by an impact parameter, b, defined as the distance between the centers of the two nuclei as seen in a beam's-eye view. This figure illustrates the two-dimensional geometric overlap region.\n",
      "\n",
      "The distribution of nucleons within a nucleus is not uniform. The radial distribution for spherical nuclei is generally described by the Woods-Saxon density profile, given by\n",
      "\u03c1(r)=\u03c10(1+wr2/R2)1+exp((r\u2212R)/a)\n",
      "where R is the average radius of the nucleus, and a, w are density parameters. These parameters come from empirical observations of electron scattering off various nuclei. The three parameter Woods-Saxon distribution describes a central nucleon density suppression to minimize the Coulombic potential, a maximum nucleon density radius, and then a fall off to zero density at infinite radius. Typical values for an assortment of nuclei is given in the Table.\n",
      "Nucleus\t A\t R (fm)\t a (fm\u22121)\t w\n",
      "C\t 12\t 2.47\t 0\t 0\n",
      "O\t 16\t 2.608\t 0.513\t -0.051\n",
      "Al\t 27\t 3.07\t 0.519\t 0\n",
      "S\t 32\t 3.458\t 0.61\t 0\n",
      "Ca\t 40\t 3.76\t 0.586\t -0.161\n",
      "Ni\t 58\t 4.309\t 0.516\t -0.1308\n",
      "Cu\t 63\t 4.2\t 0.596\t 0\n",
      "W\t 186\t 6.51\t 0.535\t 0\n",
      "Au\t 197\t 6.38\t 0.535\t 0\n",
      "Pb\t 208\t 6.68\t 0.546\t 0\n",
      "U\t 238\t 6.68\t 0.6\t 0\n",
      "(a) Plot the Woods-Saxon distribution \u03c1(r) and r2\u03c1(r) for gold from r = 0 fm to r = 18 fm."
     ]
    },
    {
     "cell_type": "code",
     "collapsed": false,
     "input": [],
     "language": "python",
     "metadata": {},
     "outputs": []
    },
    {
     "cell_type": "markdown",
     "metadata": {},
     "source": [
      "(b) Let\u2019s create a realistic distribution for two gold ions, A, and B.\n",
      "First, distribute 197 nucleons for each nucleus using the Woods-Saxon distribution multiplied by the spherical coordinate weighting factor, r2. Use the distribute1d function from the tour to sample r values numerically.\n",
      "Then, use uniform sampling of a number u from [0,1) scaled by 2\u03c0 to obtain the azimuthal angle \u03d5 = 2\u03c0u\n",
      "Followed by uniform sampling of another number v = [0,1), transformed to \u03b8=cos\u22121(2v\u22121) to obtain the polar angle \u03b8.\n",
      "(Note that this is the physics definition of azimuthal and polar angles, not the math definition.)\n",
      "The reason for these transformations is that the volume element dV=r2sin\u03b8drd\u03b8d\u03d5 has both radial and polar angle dependence. If you do not sample in this way, your results will be bunched up at the poles and toward the outer edges of the sphere."
     ]
    },
    {
     "cell_type": "code",
     "collapsed": false,
     "input": [],
     "language": "python",
     "metadata": {},
     "outputs": []
    },
    {
     "cell_type": "markdown",
     "metadata": {},
     "source": [
      "\n",
      "(c) Once you have the spherical coordinates for each of the nucleons in each nucleus, convert to cartesian coordinates. In nuclear collisions, the beam axis along which the particles travel/collide is the z axis. The polar angle \u03b8 is measured up from the positive-z axis and the azimuthal angle \u03d5 is measured up from the positive x-axis.\n",
      "Plot the nuclei in 2d for two different planar projections: the side view (y-z) and the beam's eye view (x-y) side-by-side.\n",
      "Let the nucleons have radius of 1 fm, make the nucleons from each nucleus a different color, and displace them by a randomly chosen impact parameter b between 0 and 18 fm. For example, shift ion A by b/2 to the left along the x-axis and B by b/2 to the right along the x-axis."
     ]
    },
    {
     "cell_type": "code",
     "collapsed": false,
     "input": [],
     "language": "python",
     "metadata": {},
     "outputs": []
    },
    {
     "cell_type": "markdown",
     "metadata": {},
     "source": [
      "\n",
      "(d) Since we cannot measure the impact parameter directly for each collision, we need a method to estimate the geometric overlap so that we can categorize the collisions based on the number of nucleons participating in each collision and how many nucleon-nucleon collisions occurred. Nucleons that pass close enough to each other will experience an inelastic collision that will rip the quarks right out of the nucleon. The distance that dictates when an inelastic collision occurs is governed by the interaction cross-section, which has been measured very carefully at proton colliders. The inelastic cross-section at collision energy of 200 GeV is \u03c3inel = 42 mb (1 mb = 1 millibarn = 10\u221224 cm2 = 10\u221231 m2), defining an overlap area between two nucleons.\n",
      "Make an interact object for your two plots in part (c) that let's you vary the impact parameter from 0 to 18 fm. On the plots, change the color of the nucleons that \"participate\" in interactions to something else. (Let the participating nucleons in nucleus A be one color and those in nucleus B be another color.)\n",
      "To do this, you\u2019ll need to find all the nucleons from ion A that are within a distance, D, of a nucleon from ion B using D=1\u03c0\u03c3inel\u203e\u203e\u203e\u203e\u221a, where \u03c3inel is the cross sectional area measured in millibarns. Don\u2019t forget to convert the millibarns to fm2."
     ]
    },
    {
     "cell_type": "code",
     "collapsed": false,
     "input": [],
     "language": "python",
     "metadata": {},
     "outputs": []
    }
   ],
   "metadata": {}
  }
 ]
}