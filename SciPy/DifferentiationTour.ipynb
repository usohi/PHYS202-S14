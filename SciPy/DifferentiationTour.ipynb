{
 "metadata": {
  "name": "",
  "signature": "sha256:ecd8a2127b1b7784f2173e8a54152d22289ecb9481941e2949abedc227202185"
 },
 "nbformat": 3,
 "nbformat_minor": 0,
 "worksheets": [
  {
   "cells": [
    {
     "cell_type": "heading",
     "level": 1,
     "metadata": {},
     "source": [
      "Differentiation"
     ]
    },
    {
     "cell_type": "code",
     "collapsed": false,
     "input": [],
     "language": "python",
     "metadata": {},
     "outputs": []
    }
   ],
   "metadata": {}
  }
 ]
}