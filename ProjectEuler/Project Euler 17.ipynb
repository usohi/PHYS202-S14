{
 "metadata": {
  "name": "",
  "signature": "sha256:f7ab35168c8d152e9738bed3375e567e93357b2a61a922382ca741193438010c"
 },
 "nbformat": 3,
 "nbformat_minor": 0,
 "worksheets": [
  {
   "cells": [
    {
     "cell_type": "heading",
     "level": 1,
     "metadata": {},
     "source": [
      "Number letter counts"
     ]
    },
    {
     "cell_type": "heading",
     "level": 3,
     "metadata": {},
     "source": [
      "Problem 17"
     ]
    },
    {
     "cell_type": "markdown",
     "metadata": {},
     "source": [
      "If the numbers 1 to 5 are written out in words: one, two, three, four, five, then there are 3 + 3 + 5 + 4 + 4 = 19 letters used in total.\n",
      "\n",
      "If all the numbers from 1 to 1000 (one thousand) inclusive were written out in words, how many letters would be used?\n",
      "\n",
      "\n",
      "NOTE: Do not count spaces or hyphens. For example, 342 (three hundred and forty-two) contains 23 letters and 115 (one hundred and fifteen) contains 20 letters. The use of \"and\" when writing out numbers is in compliance with British usage."
     ]
    },
    {
     "cell_type": "code",
     "collapsed": false,
     "input": [
      "number = {\n",
      "    1:'one',2:'two',3:'three',4:'four',5:'five',6:'six',7:'seven',\n",
      "    8:'eight',9:'nine',10:'ten',11:'eleven',12:'twelve',13:'thirteen',\n",
      "    14:'fourteen',15:'fifteen',16:'sixteen',17:'seventeen',\n",
      "    18:'eighteen',19:'nineteen',20:'twenty',30:'thirty',40:'forty',\n",
      "    50:'fifty',60:'sixty',70:'seventy',80:'eighty',90:'ninety',\n",
      "    100:'hundred',1000:'thousand'}\n",
      "sum1 = 0\n",
      "for x in range(1,1001):\n",
      "    \n",
      "    if x >=40 and x<=49:\n",
      "    y = x-40\n",
      "    y2 = len(y)\n",
      "    \n",
      "    sum1 = "
     ],
     "language": "python",
     "metadata": {},
     "outputs": [
      {
       "ename": "IndentationError",
       "evalue": "expected an indented block (<ipython-input-1-00ea0e37d742>, line 10)",
       "output_type": "pyerr",
       "traceback": [
        "\u001b[1;36m  File \u001b[1;32m\"<ipython-input-1-00ea0e37d742>\"\u001b[1;36m, line \u001b[1;32m10\u001b[0m\n\u001b[1;33m    \u001b[0m\n\u001b[1;37m    ^\u001b[0m\n\u001b[1;31mIndentationError\u001b[0m\u001b[1;31m:\u001b[0m expected an indented block\n"
       ]
      }
     ],
     "prompt_number": 1
    },
    {
     "cell_type": "code",
     "collapsed": false,
     "input": [
      "number = {\n",
      "    1:'one',2:'two',3:'three',4:'four',5:'five',6:'six',7:'seven',\n",
      "    8:'eight',9:'nine',10:'ten',11:'eleven',12:'twelve',13:'thirteen',\n",
      "    14:'fourteen',15:'fifteen',16:'sixteen',17:'seventeen',\n",
      "    18:'eighteen',19:'nineteen',20:'twenty',30:'thirty',40:'forty',\n",
      "    50:'fifty',60:'sixty',70:'seventy',80:'eighty',90:'ninety',\n",
      "    100:'hundred',1000:'thousand'}\n",
      "sum1 = 0\n",
      "for x in range(1,10):\n",
      "    n = str(x)\n",
      "    if x >=40 and x<=49:\n",
      "        y = x-40\n",
      "        y2 = len(y)\n",
      "    \n",
      "    sum1 = len(number[n])\n",
      "    \n",
      "print sum1"
     ],
     "language": "python",
     "metadata": {},
     "outputs": [
      {
       "ename": "KeyError",
       "evalue": "'1'",
       "output_type": "pyerr",
       "traceback": [
        "\u001b[1;31m---------------------------------------------------------------------------\u001b[0m\n\u001b[1;31mKeyError\u001b[0m                                  Traceback (most recent call last)",
        "\u001b[1;32m<ipython-input-13-29b5936f4a31>\u001b[0m in \u001b[0;36m<module>\u001b[1;34m()\u001b[0m\n\u001b[0;32m     13\u001b[0m         \u001b[0my2\u001b[0m \u001b[1;33m=\u001b[0m \u001b[0mlen\u001b[0m\u001b[1;33m(\u001b[0m\u001b[0my\u001b[0m\u001b[1;33m)\u001b[0m\u001b[1;33m\u001b[0m\u001b[0m\n\u001b[0;32m     14\u001b[0m \u001b[1;33m\u001b[0m\u001b[0m\n\u001b[1;32m---> 15\u001b[1;33m     \u001b[0msum1\u001b[0m \u001b[1;33m=\u001b[0m \u001b[0mlen\u001b[0m\u001b[1;33m(\u001b[0m\u001b[0mnumber\u001b[0m\u001b[1;33m[\u001b[0m\u001b[0mn\u001b[0m\u001b[1;33m]\u001b[0m\u001b[1;33m)\u001b[0m\u001b[1;33m\u001b[0m\u001b[0m\n\u001b[0m\u001b[0;32m     16\u001b[0m \u001b[1;33m\u001b[0m\u001b[0m\n\u001b[0;32m     17\u001b[0m \u001b[1;32mprint\u001b[0m \u001b[0msum1\u001b[0m\u001b[1;33m\u001b[0m\u001b[0m\n",
        "\u001b[1;31mKeyError\u001b[0m: '1'"
       ]
      }
     ],
     "prompt_number": 13
    },
    {
     "cell_type": "code",
     "collapsed": false,
     "input": [],
     "language": "python",
     "metadata": {},
     "outputs": []
    }
   ],
   "metadata": {}
  }
 ]
}