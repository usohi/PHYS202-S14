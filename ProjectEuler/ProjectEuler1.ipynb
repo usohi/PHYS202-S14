{
 "metadata": {
  "name": "",
  "signature": "sha256:0bd745b6a2a22ebcf29f65f7b3d2abf19d9b868bc0226d27683c8b5177c9744a"
 },
 "nbformat": 3,
 "nbformat_minor": 0,
 "worksheets": [
  {
   "cells": [
    {
     "cell_type": "heading",
     "level": 1,
     "metadata": {},
     "source": [
      "Multiples of 3 and 5"
     ]
    },
    {
     "cell_type": "heading",
     "level": 3,
     "metadata": {},
     "source": [
      "Problem 1"
     ]
    },
    {
     "cell_type": "markdown",
     "metadata": {},
     "source": [
      "If we list all the natural numbers below 10 that are multiples of 3 or 5, we get 3, 5, 6 and 9. The sum of these multiples is 23.\n",
      "\n",
      "Find the sum of all the multiples of 3 or 5 below 1000."
     ]
    },
    {
     "cell_type": "markdown",
     "metadata": {},
     "source": [
      "Drive: Umar Sohi\n",
      "\n",
      "Navigator: Devin Vaage"
     ]
    },
    {
     "cell_type": "code",
     "collapsed": false,
     "input": [
      "def sum_of_multiples(numbers):\n",
      "    num = 0 \n",
      "    for x in numbers:\n",
      "        if x % 3 == 0 or x % 5 == 0:\n",
      "            num= num +x\n",
      "    print num\n",
      "sum_of_multiples(range(10))\n",
      "\n",
      "sum_of_multiples(range(1000))"
     ],
     "language": "python",
     "metadata": {},
     "outputs": [
      {
       "output_type": "stream",
       "stream": "stdout",
       "text": [
        "23\n",
        "233168\n"
       ]
      }
     ],
     "prompt_number": 2
    },
    {
     "cell_type": "code",
     "collapsed": false,
     "input": [],
     "language": "python",
     "metadata": {},
     "outputs": []
    }
   ],
   "metadata": {}
  }
 ]
}