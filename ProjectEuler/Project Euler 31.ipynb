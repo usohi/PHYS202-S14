{
 "metadata": {
  "name": "",
  "signature": "sha256:65d1ab46b113570d16ece469b9d35614dbec00a5752ef1d5b4405a7fa26fb20f"
 },
 "nbformat": 3,
 "nbformat_minor": 0,
 "worksheets": [
  {
   "cells": [
    {
     "cell_type": "heading",
     "level": 1,
     "metadata": {},
     "source": [
      "Coin sums"
     ]
    },
    {
     "cell_type": "heading",
     "level": 3,
     "metadata": {},
     "source": [
      "Problem 31"
     ]
    },
    {
     "cell_type": "markdown",
     "metadata": {},
     "source": [
      "In England the currency is made up of pound, \u00a3, and pence, p, and there are eight coins in general circulation:\n",
      "\n",
      "1p, 2p, 5p, 10p, 20p, 50p, \u00a31 (100p) and \u00a32 (200p).\n",
      "It is possible to make \u00a32 in the following way:\n",
      "\n",
      "1\u00d7\u00a31 + 1\u00d750p + 2\u00d720p + 1\u00d75p + 1\u00d72p + 3\u00d71p\n",
      "How many different ways can \u00a32 be made using any number of coins?"
     ]
    },
    {
     "cell_type": "code",
     "collapsed": false,
     "input": [
      "int target  = 200;\n",
      "int ways = 0;\n",
      " \n",
      "for (int a = target; a >= 0; a -= 200) {\n",
      "    for (int b = a; b >= 0; b -= 100) {\n",
      "        for (int c = b; c >= 0; c -= 50) {\n",
      "            for (int d = c; d >= 0; d -= 20) {\n",
      "                for (int e = d; e >= 0; e -= 10) {\n",
      "                    for (int f = e; f >= 0; f -= 5) {\n",
      "                        for (int g = f; g >= 0; g -= 2) {\n",
      "                            ways++;\n",
      "                        }\n",
      "                    }\n",
      "                }\n",
      "            }\n",
      "        }\n",
      "    }\n",
      "}"
     ],
     "language": "python",
     "metadata": {},
     "outputs": []
    }
   ],
   "metadata": {}
  }
 ]
}