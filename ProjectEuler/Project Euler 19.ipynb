{
 "metadata": {
  "name": "",
  "signature": "sha256:3c29f6e79462242354927ffa2e549c47543394f3e56f71b33787d40bb0849f97"
 },
 "nbformat": 3,
 "nbformat_minor": 0,
 "worksheets": [
  {
   "cells": [
    {
     "cell_type": "heading",
     "level": 1,
     "metadata": {},
     "source": [
      "Counting Sundays"
     ]
    },
    {
     "cell_type": "heading",
     "level": 3,
     "metadata": {},
     "source": [
      "Problem 19"
     ]
    },
    {
     "cell_type": "markdown",
     "metadata": {},
     "source": [
      "You are given the following information, but you may prefer to do some research for yourself.\n",
      "\n",
      "1 Jan 1900 was a Monday.\n",
      "Thirty days has September,\n",
      "April, June and November.\n",
      "All the rest have thirty-one,\n",
      "Saving February alone,\n",
      "Which has twenty-eight, rain or shine.\n",
      "And on leap years, twenty-nine.\n",
      "A leap year occurs on any year evenly divisible by 4, but not on a century unless it is divisible by 400.\n",
      "How many Sundays fell on the first of the month during the twentieth century (1 Jan 1901 to 31 Dec 2000)?"
     ]
    },
    {
     "cell_type": "code",
     "collapsed": false,
     "input": [
      "import time"
     ],
     "language": "python",
     "metadata": {},
     "outputs": [],
     "prompt_number": 6
    },
    {
     "cell_type": "code",
     "collapsed": false,
     "input": [
      "months = [31,28,31,30,31,30,31,31,30,31,30,31]\n",
      "\n",
      "week = ['sunday','monday','tuesday','wednesday','thursday','friday','saturday']\n",
      "\n",
      "leapyears = [year for year in range(1, 101) if year % 4 == 0]\n",
      "\n",
      "day = 0 # 1 Jan 1901\n",
      "month = 0 # January\n",
      "year = 1 # 1901\n",
      "dayofweek = 2 # Tuesday\n",
      "\n",
      "days = {day: week[dayofweek]} \n",
      "\n",
      "since_last_month = 0\n",
      "since_last_year = 0\n",
      "\n",
      "first_of_months = {}\n",
      "while year <= 100:\n",
      "    #print \"%s/%s/%s - %s\" % (month+1, since_last_month+1, year+1900, week[dayofweek])\n",
      "    # if it's the first of the month, make a note \n",
      "    # of the dayofweek.\n",
      "    if since_last_month == 0:\n",
      "        first_of_months[\"%s/%s/%s\" % (month+1, since_last_month+1, year+1900)] = week[dayofweek]\n",
      "\n",
      "    # increment the counters..\n",
      "    day += 1\n",
      "    since_last_month += 1\n",
      "    since_last_year += 1\n",
      "    \n",
      "    # check what year it is\n",
      "    days_of_year = 365\n",
      "    if year in leapyears:\n",
      "        days_of_year += 1\n",
      "    if since_last_year >= days_of_year:\n",
      "        year += 1\n",
      "        since_last_year = 0\n",
      "\n",
      "    # check what month it is\n",
      "    days_of_month = months[month]\n",
      "    if month == 1 and year in leapyears: # february\n",
      "        days_of_month += 1\n",
      "    if since_last_month >= days_of_month:\n",
      "        month += 1\n",
      "        since_last_month = 0\n",
      "        if month > len(months)-1:\n",
      "            month = 0\n",
      "\n",
      "    # check what day of the week it is\n",
      "    dayofweek += 1\n",
      "    if dayofweek > len(week)-1:\n",
      "        dayofweek = 0\n",
      "    days[day] = week[dayofweek]\n",
      "\n",
      "def date_sort(date):\n",
      "    date_str = date[0]\n",
      "    month,day,year = date_str.split('/')\n",
      "    return int(month)*int(day)*int(year)\n",
      "\n",
      "print len([dayofweek for dayofweek in first_of_months.values() if dayofweek == 'sun'])"
     ],
     "language": "python",
     "metadata": {},
     "outputs": [
      {
       "output_type": "stream",
       "stream": "stdout",
       "text": [
        "171\n"
       ]
      }
     ],
     "prompt_number": 8
    },
    {
     "cell_type": "code",
     "collapsed": false,
     "input": [],
     "language": "python",
     "metadata": {},
     "outputs": []
    },
    {
     "cell_type": "code",
     "collapsed": false,
     "input": [],
     "language": "python",
     "metadata": {},
     "outputs": []
    }
   ],
   "metadata": {}
  }
 ]
}