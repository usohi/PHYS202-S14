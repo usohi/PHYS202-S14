{
 "metadata": {
  "name": "",
  "signature": "sha256:ff34ffc8d3c686ac80e868f69c44c860aa5c62b7eb00757b97aaf1dfe83fb871"
 },
 "nbformat": 3,
 "nbformat_minor": 0,
 "worksheets": [
  {
   "cells": [
    {
     "cell_type": "heading",
     "level": 1,
     "metadata": {},
     "source": [
      "Counting Sundays"
     ]
    },
    {
     "cell_type": "heading",
     "level": 3,
     "metadata": {},
     "source": [
      "Problem 19"
     ]
    },
    {
     "cell_type": "markdown",
     "metadata": {},
     "source": [
      "You are given the following information, but you may prefer to do some research for yourself.\n",
      "\n",
      "1 Jan 1900 was a Monday.\n",
      "Thirty days has September,\n",
      "April, June and November.\n",
      "All the rest have thirty-one,\n",
      "Saving February alone,\n",
      "Which has twenty-eight, rain or shine.\n",
      "And on leap years, twenty-nine.\n",
      "A leap year occurs on any year evenly divisible by 4, but not on a century unless it is divisible by 400.\n",
      "How many Sundays fell on the first of the month during the twentieth century (1 Jan 1901 to 31 Dec 2000)?"
     ]
    },
    {
     "cell_type": "code",
     "collapsed": false,
     "input": [
      "import time"
     ],
     "language": "python",
     "metadata": {},
     "outputs": [],
     "prompt_number": 4
    },
    {
     "cell_type": "code",
     "collapsed": false,
     "input": [
      "months = [31,28,31,30,31,30,31,31,30,31,30,31]\n",
      "\n",
      "week = ['sunday','monday','tuesday','wednesday','thursday','friday','saturday']\n",
      "\n",
      "leapyears = [year for year in range(1, 101) if year % 4 == 0]\n",
      "\n",
      "day = 0 \n",
      "month = 0 \n",
      "year = 1 \n",
      "dayofweek = 2\n",
      "\n",
      "days = {day: week[dayofweek]} \n",
      "\n",
      "lastmonth = 0\n",
      "lastyear = 0\n",
      "\n",
      "first_of_months = {}\n",
      "while year <= 100:\n",
      "    \n",
      "    if lastmonth == 0:\n",
      "        first_of_months[\"%s/%s/%s\" % (month+1, lastmonth+1, year+1900)] = week[dayofweek]\n",
      "\n",
      "    \n",
      "    day += 1\n",
      "    lastmonth += 1\n",
      "    lastyear += 1\n",
      "    \n",
      "    \n",
      "    days_of_year = 365\n",
      "    if year in leapyears:\n",
      "        days_of_year += 1\n",
      "    if lastyear >= days_of_year:\n",
      "        year += 1\n",
      "        lastyear = 0\n",
      "\n",
      "    \n",
      "    days_of_month = months[month]\n",
      "    if month == 1 and year in leapyears: \n",
      "        days_of_month += 1\n",
      "    if lastmonth >= days_of_month:\n",
      "        month += 1\n",
      "        lastmonth = 0\n",
      "        if month > len(months)-1:\n",
      "            month = 0\n",
      "\n",
      "    \n",
      "    dayofweek += 1\n",
      "    if dayofweek > len(week)-1:\n",
      "        dayofweek = 0\n",
      "    days[day] = week[dayofweek]\n",
      "\n",
      "def date_sort(date):\n",
      "    date_str = date[0]\n",
      "    month,day,year = date_str.split('/')\n",
      "    return int(month)*int(day)*int(year)\n",
      "\n",
      "print len([dayofweek for dayofweek in first_of_months.values() if dayofweek == 'sunday'])"
     ],
     "language": "python",
     "metadata": {},
     "outputs": [
      {
       "output_type": "stream",
       "stream": "stdout",
       "text": [
        "171\n"
       ]
      }
     ],
     "prompt_number": 9
    },
    {
     "cell_type": "code",
     "collapsed": false,
     "input": [],
     "language": "python",
     "metadata": {},
     "outputs": []
    },
    {
     "cell_type": "code",
     "collapsed": false,
     "input": [],
     "language": "python",
     "metadata": {},
     "outputs": []
    }
   ],
   "metadata": {}
  }
 ]
}